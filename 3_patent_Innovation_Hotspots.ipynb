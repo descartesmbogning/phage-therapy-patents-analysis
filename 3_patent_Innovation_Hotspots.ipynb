{
  "cells": [
    {
      "cell_type": "markdown",
      "metadata": {
        "id": "view-in-github",
        "colab_type": "text"
      },
      "source": [
        "<a href=\"https://colab.research.google.com/github/descartesmbogning/phage-therapy-patents-analysis/blob/main/3_patent_Innovation_Hotspots.ipynb\" target=\"_parent\"><img src=\"https://colab.research.google.com/assets/colab-badge.svg\" alt=\"Open In Colab\"/></a>"
      ]
    },
    {
      "cell_type": "code",
      "execution_count": null,
      "metadata": {
        "id": "NEUAnJUfNSK8"
      },
      "outputs": [],
      "source": []
    },
    {
      "cell_type": "code",
      "execution_count": null,
      "metadata": {
        "colab": {
          "base_uri": "https://localhost:8080/"
        },
        "id": "-hHx5c0ANUSP",
        "outputId": "4a9bdcb1-b678-4c1c-bbca-22c76d43fbbc"
      },
      "outputs": [
        {
          "output_type": "stream",
          "name": "stdout",
          "text": [
            "Requirement already satisfied: nltk in /usr/local/lib/python3.10/dist-packages (3.8.1)\n",
            "Requirement already satisfied: matplotlib in /usr/local/lib/python3.10/dist-packages (3.7.1)\n",
            "Requirement already satisfied: wordcloud in /usr/local/lib/python3.10/dist-packages (1.9.3)\n",
            "Requirement already satisfied: scikit-learn in /usr/local/lib/python3.10/dist-packages (1.2.2)\n",
            "Requirement already satisfied: click in /usr/local/lib/python3.10/dist-packages (from nltk) (8.1.7)\n",
            "Requirement already satisfied: joblib in /usr/local/lib/python3.10/dist-packages (from nltk) (1.3.2)\n",
            "Requirement already satisfied: regex>=2021.8.3 in /usr/local/lib/python3.10/dist-packages (from nltk) (2023.6.3)\n",
            "Requirement already satisfied: tqdm in /usr/local/lib/python3.10/dist-packages (from nltk) (4.66.1)\n",
            "Requirement already satisfied: contourpy>=1.0.1 in /usr/local/lib/python3.10/dist-packages (from matplotlib) (1.2.0)\n",
            "Requirement already satisfied: cycler>=0.10 in /usr/local/lib/python3.10/dist-packages (from matplotlib) (0.12.1)\n",
            "Requirement already satisfied: fonttools>=4.22.0 in /usr/local/lib/python3.10/dist-packages (from matplotlib) (4.46.0)\n",
            "Requirement already satisfied: kiwisolver>=1.0.1 in /usr/local/lib/python3.10/dist-packages (from matplotlib) (1.4.5)\n",
            "Requirement already satisfied: numpy>=1.20 in /usr/local/lib/python3.10/dist-packages (from matplotlib) (1.23.5)\n",
            "Requirement already satisfied: packaging>=20.0 in /usr/local/lib/python3.10/dist-packages (from matplotlib) (23.2)\n",
            "Requirement already satisfied: pillow>=6.2.0 in /usr/local/lib/python3.10/dist-packages (from matplotlib) (9.4.0)\n",
            "Requirement already satisfied: pyparsing>=2.3.1 in /usr/local/lib/python3.10/dist-packages (from matplotlib) (3.1.1)\n",
            "Requirement already satisfied: python-dateutil>=2.7 in /usr/local/lib/python3.10/dist-packages (from matplotlib) (2.8.2)\n",
            "Requirement already satisfied: scipy>=1.3.2 in /usr/local/lib/python3.10/dist-packages (from scikit-learn) (1.11.4)\n",
            "Requirement already satisfied: threadpoolctl>=2.0.0 in /usr/local/lib/python3.10/dist-packages (from scikit-learn) (3.2.0)\n",
            "Requirement already satisfied: six>=1.5 in /usr/local/lib/python3.10/dist-packages (from python-dateutil>=2.7->matplotlib) (1.16.0)\n"
          ]
        }
      ],
      "source": [
        "!pip install nltk matplotlib wordcloud scikit-learn\n"
      ]
    },
    {
      "cell_type": "code",
      "execution_count": null,
      "metadata": {
        "id": "P2lXHGsHNjtI"
      },
      "outputs": [],
      "source": []
    },
    {
      "cell_type": "code",
      "execution_count": null,
      "metadata": {
        "colab": {
          "base_uri": "https://localhost:8080/"
        },
        "id": "aQx6Xqm_NjxL",
        "outputId": "2e4702e3-a785-4492-8411-adbad997d868"
      },
      "outputs": [
        {
          "output_type": "stream",
          "name": "stderr",
          "text": [
            "[nltk_data] Downloading package punkt to /root/nltk_data...\n",
            "[nltk_data]   Unzipping tokenizers/punkt.zip.\n"
          ]
        },
        {
          "output_type": "execute_result",
          "data": {
            "text/plain": [
              "True"
            ]
          },
          "metadata": {},
          "execution_count": 2
        }
      ],
      "source": [
        "import nltk\n",
        "import pandas as pd\n",
        "import numpy as np\n",
        "import matplotlib.pyplot as plt\n",
        "from wordcloud import WordCloud\n",
        "from sklearn.feature_extraction.text import CountVectorizer, TfidfVectorizer\n",
        "from collections import Counter\n",
        "nltk.download('punkt')\n"
      ]
    },
    {
      "cell_type": "code",
      "execution_count": null,
      "metadata": {
        "colab": {
          "base_uri": "https://localhost:8080/"
        },
        "id": "mIWAARRBOQ5d",
        "outputId": "fcecbfb3-cd75-4313-b498-5eaa4bbc3f98"
      },
      "outputs": [
        {
          "output_type": "stream",
          "name": "stderr",
          "text": [
            "[nltk_data] Downloading package wordnet to /root/nltk_data...\n",
            "[nltk_data] Downloading package stopwords to /root/nltk_data...\n",
            "[nltk_data]   Unzipping corpora/stopwords.zip.\n"
          ]
        }
      ],
      "source": [
        "from wordcloud import WordCloud, STOPWORDS\n",
        "import plotly.express as px\n",
        "import nltk\n",
        "from nltk.corpus import stopwords\n",
        "from nltk.stem import WordNetLemmatizer\n",
        "\n",
        "# Downloads\n",
        "nltk.download('wordnet')\n",
        "nltk.download('stopwords')\n",
        "\n",
        "# Initialize your stopwords set with wordcloud's stopwords\n",
        "s = set(STOPWORDS)\n",
        "\n",
        "# Get stopwords for all languages in NLTK\n",
        "languages = stopwords.fileids()\n",
        "for language in languages:\n",
        "    s.update(stopwords.words(language))\n",
        "\n",
        "# Add any additional stopwords if needed\n",
        "s.add('amp')\n",
        "\n",
        "# If you really need the resulting stopwords as a list:\n",
        "stopwords_list = list(s)\n"
      ]
    },
    {
      "cell_type": "code",
      "execution_count": null,
      "metadata": {
        "id": "-2AQEqaqNnjH"
      },
      "outputs": [],
      "source": []
    },
    {
      "cell_type": "code",
      "execution_count": null,
      "metadata": {
        "id": "bEFQxzLGNnvz"
      },
      "outputs": [],
      "source": [
        "# Load your dataset (Assuming it's a CSV with a column 'abstract' for patent abstracts)"
      ]
    },
    {
      "cell_type": "code",
      "source": [],
      "metadata": {
        "id": "JT6FH3Acy6hE"
      },
      "execution_count": null,
      "outputs": []
    },
    {
      "cell_type": "markdown",
      "source": [
        "# import data\n"
      ],
      "metadata": {
        "id": "tu9sm-eZy7Gi"
      }
    },
    {
      "cell_type": "code",
      "execution_count": null,
      "metadata": {
        "colab": {
          "base_uri": "https://localhost:8080/",
          "height": 362
        },
        "id": "LTUBuo5SN01s",
        "outputId": "db41ea81-8551-4a42-da61-4888edfd1d44"
      },
      "outputs": [
        {
          "output_type": "error",
          "ename": "KeyboardInterrupt",
          "evalue": "ignored",
          "traceback": [
            "\u001b[0;31m---------------------------------------------------------------------------\u001b[0m",
            "\u001b[0;31mKeyboardInterrupt\u001b[0m                         Traceback (most recent call last)",
            "\u001b[0;32m<ipython-input-5-d5df0069828e>\u001b[0m in \u001b[0;36m<cell line: 2>\u001b[0;34m()\u001b[0m\n\u001b[1;32m      1\u001b[0m \u001b[0;32mfrom\u001b[0m \u001b[0mgoogle\u001b[0m\u001b[0;34m.\u001b[0m\u001b[0mcolab\u001b[0m \u001b[0;32mimport\u001b[0m \u001b[0mdrive\u001b[0m\u001b[0;34m\u001b[0m\u001b[0;34m\u001b[0m\u001b[0m\n\u001b[0;32m----> 2\u001b[0;31m \u001b[0mdrive\u001b[0m\u001b[0;34m.\u001b[0m\u001b[0mmount\u001b[0m\u001b[0;34m(\u001b[0m\u001b[0;34m'/content/drive'\u001b[0m\u001b[0;34m)\u001b[0m\u001b[0;34m\u001b[0m\u001b[0;34m\u001b[0m\u001b[0m\n\u001b[0m",
            "\u001b[0;32m/usr/local/lib/python3.10/dist-packages/google/colab/drive.py\u001b[0m in \u001b[0;36mmount\u001b[0;34m(mountpoint, force_remount, timeout_ms, readonly)\u001b[0m\n\u001b[1;32m     98\u001b[0m \u001b[0;32mdef\u001b[0m \u001b[0mmount\u001b[0m\u001b[0;34m(\u001b[0m\u001b[0mmountpoint\u001b[0m\u001b[0;34m,\u001b[0m \u001b[0mforce_remount\u001b[0m\u001b[0;34m=\u001b[0m\u001b[0;32mFalse\u001b[0m\u001b[0;34m,\u001b[0m \u001b[0mtimeout_ms\u001b[0m\u001b[0;34m=\u001b[0m\u001b[0;36m120000\u001b[0m\u001b[0;34m,\u001b[0m \u001b[0mreadonly\u001b[0m\u001b[0;34m=\u001b[0m\u001b[0;32mFalse\u001b[0m\u001b[0;34m)\u001b[0m\u001b[0;34m:\u001b[0m\u001b[0;34m\u001b[0m\u001b[0;34m\u001b[0m\u001b[0m\n\u001b[1;32m     99\u001b[0m   \u001b[0;34m\"\"\"Mount your Google Drive at the specified mountpoint path.\"\"\"\u001b[0m\u001b[0;34m\u001b[0m\u001b[0;34m\u001b[0m\u001b[0m\n\u001b[0;32m--> 100\u001b[0;31m   return _mount(\n\u001b[0m\u001b[1;32m    101\u001b[0m       \u001b[0mmountpoint\u001b[0m\u001b[0;34m,\u001b[0m\u001b[0;34m\u001b[0m\u001b[0;34m\u001b[0m\u001b[0m\n\u001b[1;32m    102\u001b[0m       \u001b[0mforce_remount\u001b[0m\u001b[0;34m=\u001b[0m\u001b[0mforce_remount\u001b[0m\u001b[0;34m,\u001b[0m\u001b[0;34m\u001b[0m\u001b[0;34m\u001b[0m\u001b[0m\n",
            "\u001b[0;32m/usr/local/lib/python3.10/dist-packages/google/colab/drive.py\u001b[0m in \u001b[0;36m_mount\u001b[0;34m(mountpoint, force_remount, timeout_ms, ephemeral, readonly)\u001b[0m\n\u001b[1;32m    127\u001b[0m   )\n\u001b[1;32m    128\u001b[0m   \u001b[0;32mif\u001b[0m \u001b[0mephemeral\u001b[0m\u001b[0;34m:\u001b[0m\u001b[0;34m\u001b[0m\u001b[0;34m\u001b[0m\u001b[0m\n\u001b[0;32m--> 129\u001b[0;31m     _message.blocking_request(\n\u001b[0m\u001b[1;32m    130\u001b[0m         \u001b[0;34m'request_auth'\u001b[0m\u001b[0;34m,\u001b[0m \u001b[0mrequest\u001b[0m\u001b[0;34m=\u001b[0m\u001b[0;34m{\u001b[0m\u001b[0;34m'authType'\u001b[0m\u001b[0;34m:\u001b[0m \u001b[0;34m'dfs_ephemeral'\u001b[0m\u001b[0;34m}\u001b[0m\u001b[0;34m,\u001b[0m \u001b[0mtimeout_sec\u001b[0m\u001b[0;34m=\u001b[0m\u001b[0;32mNone\u001b[0m\u001b[0;34m\u001b[0m\u001b[0;34m\u001b[0m\u001b[0m\n\u001b[1;32m    131\u001b[0m     )\n",
            "\u001b[0;32m/usr/local/lib/python3.10/dist-packages/google/colab/_message.py\u001b[0m in \u001b[0;36mblocking_request\u001b[0;34m(request_type, request, timeout_sec, parent)\u001b[0m\n\u001b[1;32m    174\u001b[0m       \u001b[0mrequest_type\u001b[0m\u001b[0;34m,\u001b[0m \u001b[0mrequest\u001b[0m\u001b[0;34m,\u001b[0m \u001b[0mparent\u001b[0m\u001b[0;34m=\u001b[0m\u001b[0mparent\u001b[0m\u001b[0;34m,\u001b[0m \u001b[0mexpect_reply\u001b[0m\u001b[0;34m=\u001b[0m\u001b[0;32mTrue\u001b[0m\u001b[0;34m\u001b[0m\u001b[0;34m\u001b[0m\u001b[0m\n\u001b[1;32m    175\u001b[0m   )\n\u001b[0;32m--> 176\u001b[0;31m   \u001b[0;32mreturn\u001b[0m \u001b[0mread_reply_from_input\u001b[0m\u001b[0;34m(\u001b[0m\u001b[0mrequest_id\u001b[0m\u001b[0;34m,\u001b[0m \u001b[0mtimeout_sec\u001b[0m\u001b[0;34m)\u001b[0m\u001b[0;34m\u001b[0m\u001b[0;34m\u001b[0m\u001b[0m\n\u001b[0m",
            "\u001b[0;32m/usr/local/lib/python3.10/dist-packages/google/colab/_message.py\u001b[0m in \u001b[0;36mread_reply_from_input\u001b[0;34m(message_id, timeout_sec)\u001b[0m\n\u001b[1;32m     94\u001b[0m     \u001b[0mreply\u001b[0m \u001b[0;34m=\u001b[0m \u001b[0m_read_next_input_message\u001b[0m\u001b[0;34m(\u001b[0m\u001b[0;34m)\u001b[0m\u001b[0;34m\u001b[0m\u001b[0;34m\u001b[0m\u001b[0m\n\u001b[1;32m     95\u001b[0m     \u001b[0;32mif\u001b[0m \u001b[0mreply\u001b[0m \u001b[0;34m==\u001b[0m \u001b[0m_NOT_READY\u001b[0m \u001b[0;32mor\u001b[0m \u001b[0;32mnot\u001b[0m \u001b[0misinstance\u001b[0m\u001b[0;34m(\u001b[0m\u001b[0mreply\u001b[0m\u001b[0;34m,\u001b[0m \u001b[0mdict\u001b[0m\u001b[0;34m)\u001b[0m\u001b[0;34m:\u001b[0m\u001b[0;34m\u001b[0m\u001b[0;34m\u001b[0m\u001b[0m\n\u001b[0;32m---> 96\u001b[0;31m       \u001b[0mtime\u001b[0m\u001b[0;34m.\u001b[0m\u001b[0msleep\u001b[0m\u001b[0;34m(\u001b[0m\u001b[0;36m0.025\u001b[0m\u001b[0;34m)\u001b[0m\u001b[0;34m\u001b[0m\u001b[0;34m\u001b[0m\u001b[0m\n\u001b[0m\u001b[1;32m     97\u001b[0m       \u001b[0;32mcontinue\u001b[0m\u001b[0;34m\u001b[0m\u001b[0;34m\u001b[0m\u001b[0m\n\u001b[1;32m     98\u001b[0m     if (\n",
            "\u001b[0;31mKeyboardInterrupt\u001b[0m: "
          ]
        }
      ],
      "source": [
        "from google.colab import drive\n",
        "drive.mount('/content/drive')"
      ]
    },
    {
      "cell_type": "code",
      "execution_count": null,
      "metadata": {
        "id": "YD8VbPbXN08F"
      },
      "outputs": [],
      "source": [
        "data = pd.read_csv ('/content/drive/MyDrive/YORKU PROJECT/JUDE/BACTERIOPHAGE/patent-phage-therapy-lens-23102023-tiab.csv')\n",
        "#data = pd.read_pickle(f'/content/drive/MyDrive/YORKU PROJECT/JUDE/BACTERIOPHAGE/topic_probability_patent_therapy_23102023_10.pkl').reset_index()\n",
        "pd.set_option('display.max_columns', None)\n",
        "print(len(data))\n",
        "data.head()"
      ]
    },
    {
      "cell_type": "code",
      "source": [],
      "metadata": {
        "id": "yXUyabW65rxi"
      },
      "execution_count": null,
      "outputs": []
    },
    {
      "cell_type": "code",
      "source": [],
      "metadata": {
        "id": "ZXKnJlRG5r00"
      },
      "execution_count": null,
      "outputs": []
    },
    {
      "cell_type": "markdown",
      "source": [
        "# data preprocessing"
      ],
      "metadata": {
        "id": "NFbjOf825s4L"
      }
    },
    {
      "cell_type": "code",
      "execution_count": null,
      "metadata": {
        "id": "Np5CfePbN0-u"
      },
      "outputs": [],
      "source": [
        "data['Application Date'] = pd.to_datetime(data['Application Date'])\n",
        "data['Earliest Priority Date'] = pd.to_datetime(data['Earliest Priority Date'])"
      ]
    },
    {
      "cell_type": "code",
      "execution_count": null,
      "metadata": {
        "id": "Xganw5wjnYo7"
      },
      "outputs": [],
      "source": [
        "data['Application Year'] = data['Application Date'].dt.year\n",
        "data['Earliest Priority Year'] = data['Earliest Priority Date'].dt.year"
      ]
    },
    {
      "cell_type": "code",
      "execution_count": null,
      "metadata": {
        "id": "pHl_g-SDnYrU"
      },
      "outputs": [],
      "source": [
        "# Convert 'Publication Year' to integers\n",
        "data['Publication Year'] = data['Publication Year'].astype('Int64')\n",
        "data['Application Year'] = data['Application Year'].astype('Int64')\n",
        "data['Earliest Priority Year'] = data['Earliest Priority Year'].astype('Int64')"
      ]
    },
    {
      "cell_type": "code",
      "execution_count": null,
      "metadata": {
        "id": "oEvINJGknYtt"
      },
      "outputs": [],
      "source": [
        "def group_years_in_ranges(df, col_name):\n",
        "    bins = list(range(1960, 2026, 5))\n",
        "    labels = [f\"{i}-{i+4}\" for i in bins[:-1]]\n",
        "    return pd.cut(data['Application Year'], bins=bins, labels=labels, right=False)\n"
      ]
    },
    {
      "cell_type": "code",
      "execution_count": null,
      "metadata": {
        "id": "uJDC4slWnYwR"
      },
      "outputs": [],
      "source": [
        "data['Application_Year_Range'] = group_years_in_ranges(data, 'Application Year')\n"
      ]
    },
    {
      "cell_type": "code",
      "execution_count": null,
      "metadata": {
        "id": "lmRTMBoqnYy1"
      },
      "outputs": [],
      "source": []
    },
    {
      "cell_type": "code",
      "source": [
        "data['IPCR Classifications']"
      ],
      "metadata": {
        "id": "qfVIlFPzDmhc"
      },
      "execution_count": null,
      "outputs": []
    },
    {
      "cell_type": "code",
      "source": [
        "import pandas as pd\n",
        "\n",
        "# Define the function to process IPCR codes\n",
        "def process_ipcr_sections(ipcr_codes):\n",
        "    # Check if ipcr_codes is a string (which means it's not NaN or None)\n",
        "    if isinstance(ipcr_codes, str):\n",
        "        # Extract the first letter of each code, remove duplicates by converting to a set\n",
        "        unique_initials = sorted(set(code[0] for code in ipcr_codes.split(';;') if code))\n",
        "        # Join the unique initials back together\n",
        "        return ';;'.join(unique_initials)\n",
        "    else:\n",
        "        # If it's not a string, just return an empty string or NaN\n",
        "        return ''\n",
        "\n",
        "# Assuming 'data' is your DataFrame\n",
        "# Apply the function to the 'IPCR Classifications' column\n",
        "data['IPCR Sections'] = data['IPCR Classifications'].apply(process_ipcr_sections)\n",
        "\n",
        "# Print the DataFrame to verify the results\n",
        "data[['IPCR Classifications', 'IPCR Sections']]\n"
      ],
      "metadata": {
        "id": "8PSJJvBYKNIm"
      },
      "execution_count": null,
      "outputs": []
    },
    {
      "cell_type": "code",
      "source": [
        "import pandas as pd\n",
        "\n",
        "# Define the function to process IPCR codes\n",
        "def process_ipcr_class(ipcr_codes):\n",
        "    # Check if ipcr_codes is a string (which means it's not NaN or None)\n",
        "    if isinstance(ipcr_codes, str):\n",
        "        # Extract the first letter of each code, remove duplicates by converting to a set\n",
        "        unique_initials = sorted(set(code[:3] for code in ipcr_codes.split(';;') if code))\n",
        "        # Join the unique initials back together\n",
        "        return ';;'.join(unique_initials)\n",
        "    else:\n",
        "        # If it's not a string, just return an empty string or NaN\n",
        "        return ''\n",
        "\n",
        "# Assuming 'data' is your DataFrame\n",
        "# Apply the function to the 'IPCR Classifications' column\n",
        "data['IPCR Class'] = data['IPCR Classifications'].apply(process_ipcr_class)\n",
        "\n",
        "# Print the DataFrame to verify the results\n",
        "data[['IPCR Classifications', 'IPCR Class']]\n"
      ],
      "metadata": {
        "id": "LYRVu367KNOV"
      },
      "execution_count": null,
      "outputs": []
    },
    {
      "cell_type": "code",
      "source": [
        "import pandas as pd\n",
        "\n",
        "# Define the function to process IPCR codes\n",
        "def process_ipcr_subclass(ipcr_codes):\n",
        "    # Check if ipcr_codes is a string (which means it's not NaN or None)\n",
        "    if isinstance(ipcr_codes, str):\n",
        "        # Extract the first letter of each code, remove duplicates by converting to a set\n",
        "        unique_initials = sorted(set(code[:4] for code in ipcr_codes.split(';;') if code))\n",
        "        # Join the unique initials back together\n",
        "        return ';;'.join(unique_initials)\n",
        "    else:\n",
        "        # If it's not a string, just return an empty string or NaN\n",
        "        return ''\n",
        "\n",
        "# Assuming 'data' is your DataFrame\n",
        "# Apply the function to the 'IPCR Classifications' column\n",
        "data['IPCR Subclass'] = data['IPCR Classifications'].apply(process_ipcr_subclass)\n",
        "\n",
        "# Print the DataFrame to verify the results\n",
        "data[['IPCR Classifications', 'IPCR Subclass']]\n"
      ],
      "metadata": {
        "id": "Dk7326C2G9Bz"
      },
      "execution_count": null,
      "outputs": []
    },
    {
      "cell_type": "code",
      "source": [],
      "metadata": {
        "id": "JiAe2OCuItHB"
      },
      "execution_count": null,
      "outputs": []
    },
    {
      "cell_type": "code",
      "source": [
        "data['Jurisdiction'].unique()"
      ],
      "metadata": {
        "id": "bkyb05ClG9MJ"
      },
      "execution_count": null,
      "outputs": []
    },
    {
      "cell_type": "code",
      "source": [
        "import pandas as pd\n",
        "\n",
        "# Assuming `data` is your DataFrame and has a column named 'Jurisdiction'\n",
        "\n",
        "jurisdiction_codes = {\n",
        "    'RU': 'Russia',\n",
        "    'JP': 'Japan',\n",
        "    'AU': 'Australia',\n",
        "    'US': 'United States',\n",
        "    'CN': 'China',\n",
        "    'CA': 'Canada',\n",
        "    'WO': 'World Intellectual Property Org.',\n",
        "    'EP': 'European Patent Office',\n",
        "    'SG': 'Singapore',\n",
        "    'KR': 'South Korea',\n",
        "    'NZ': 'New Zealand',\n",
        "    'GB': 'United Kingdom',\n",
        "    'GE': 'Georgia',  # or 'Germany' for historical East Germany\n",
        "    'DE': 'Germany',\n",
        "    'CZ': 'Czech Republic',\n",
        "    'MX': 'Mexico',\n",
        "    'TN': 'Tunisia',\n",
        "    'ES': 'Spain',\n",
        "    'IN': 'India',\n",
        "    'EA': 'Eurasian Patent Org.',\n",
        "    'TW': 'Taiwan',\n",
        "    'UA': 'Ukraine',\n",
        "    'MY': 'Malaysia',\n",
        "    'SU': 'Russia',\n",
        "    'FR': 'France',\n",
        "    'CH': 'Switzerland',\n",
        "    'PH': 'Philippines',\n",
        "    'SK': 'Slovakia',\n",
        "    'NL': 'Netherlands',\n",
        "    'LV': 'Latvia',\n",
        "    'ZA': 'South Africa',\n",
        "    'PL': 'Poland',\n",
        "    'BG': 'Bulgaria',\n",
        "}\n",
        "\n",
        "# Replace the codes with names in the 'Jurisdiction' column\n",
        "data['Jurisdiction_name'] = data['Jurisdiction'].map(jurisdiction_codes).fillna(data['Jurisdiction'])\n",
        "\n",
        "#data[['Jurisdiction', 'Jurisdiction_name']]"
      ],
      "metadata": {
        "id": "_8y0hF7ApTsK"
      },
      "execution_count": null,
      "outputs": []
    },
    {
      "cell_type": "code",
      "source": [],
      "metadata": {
        "id": "2DGi-vttpTxF"
      },
      "execution_count": null,
      "outputs": []
    },
    {
      "cell_type": "code",
      "source": [
        "import pandas as pd\n",
        "\n",
        "# Your existing DataFrame is 'data', and it contains a column 'Jurisdiction'\n",
        "\n",
        "# Map of jurisdiction codes to their respective continent or region names\n",
        "jurisdiction_to_region = {\n",
        "    # Western Europe\n",
        "    'GB': 'Europe', 'DE': 'Europe', 'FR': 'Europe',\n",
        "    'CH': 'Europe', 'NL': 'Europe', 'ES': 'Europe',\n",
        "\n",
        "    # Eastern Europe\n",
        "    'RU': 'Europe', 'CZ': 'Europe', 'UA': 'Europe',\n",
        "    'SK': 'Europe', 'LV': 'Europe', 'PL': 'Europe',\n",
        "    'GE': 'Europe', 'BG': 'Europe',\n",
        "\n",
        "    # Rest of the regions\n",
        "    'JP': 'Asia', 'AU': 'Oceania', 'US': 'North America', 'CN': 'Asia',\n",
        "    'CA': 'North America', 'WO': 'International', 'EP': 'Europe', 'SG': 'Asia',\n",
        "    'KR': 'Asia', 'NZ': 'Oceania', 'MX': 'North America', 'TN': 'Africa',\n",
        "    'IN': 'Asia', 'EA': 'Eurasia', 'TW': 'Asia', 'MY': 'Asia',\n",
        "    'SU': 'Eurasia', 'PH': 'Asia', 'ZA': 'Africa'\n",
        "}\n",
        "\n",
        "# Create a new column 'Region' by mapping the 'Jurisdiction' column using the dictionary\n",
        "data['Jurisdiction_Region'] = data['Jurisdiction'].map(jurisdiction_to_region).fillna(data['Jurisdiction'])\n",
        "\n",
        "data[['Jurisdiction', 'Jurisdiction_name', 'Jurisdiction_Region']]\n"
      ],
      "metadata": {
        "id": "q-okDEnlpT1g"
      },
      "execution_count": null,
      "outputs": []
    },
    {
      "cell_type": "code",
      "source": [
        "data['Jurisdiction_name'].unique()"
      ],
      "metadata": {
        "id": "2TswqLtoG9PM"
      },
      "execution_count": null,
      "outputs": []
    },
    {
      "cell_type": "code",
      "source": [
        "data['Jurisdiction_Region'].unique()"
      ],
      "metadata": {
        "id": "WXPyPyyZtiig"
      },
      "execution_count": null,
      "outputs": []
    },
    {
      "cell_type": "code",
      "source": [
        "data.info()"
      ],
      "metadata": {
        "id": "v-5nJLP1DMF0"
      },
      "execution_count": null,
      "outputs": []
    },
    {
      "cell_type": "code",
      "source": [],
      "metadata": {
        "id": "NFTcPuVjDMLn"
      },
      "execution_count": null,
      "outputs": []
    },
    {
      "cell_type": "markdown",
      "source": [
        "### clean applicants and inventors"
      ],
      "metadata": {
        "id": "QrJVorIHaeJ0"
      }
    },
    {
      "cell_type": "code",
      "source": [
        "data[['Applicants','Inventors']]"
      ],
      "metadata": {
        "id": "UqvYs9dDdk2L"
      },
      "execution_count": null,
      "outputs": []
    },
    {
      "cell_type": "code",
      "execution_count": null,
      "metadata": {
        "id": "n-dI94k7Vlop"
      },
      "outputs": [],
      "source": [
        "#data_topic = pd.read_csv ('/content/drive/MyDrive/YORKU PROJECT/JUDE/BACTERIOPHAGE/patent-phage-therapy-lens-23102023-tiab.csv')\n",
        "applicant_clean = pd.read_excel(f'/content/drive/Othercomputers/My laptop/D:/PROJECT/YORK UNIVERSITY/BACTERIOPHAGES/MANUSCRIPT/applicant-classification_clean.xlsx')\n",
        "pd.set_option('display.max_columns', None)\n",
        "print(len(applicant_clean))\n",
        "applicant_clean.head()"
      ]
    },
    {
      "cell_type": "code",
      "execution_count": null,
      "metadata": {
        "id": "n5xDQ6ZmRW7V"
      },
      "outputs": [],
      "source": [
        "#data_topic = pd.read_csv ('/content/drive/MyDrive/YORKU PROJECT/JUDE/BACTERIOPHAGE/patent-phage-therapy-lens-23102023-tiab.csv')\n",
        "inventor_clean = pd.read_excel('/content/drive/Othercomputers/My laptop/D:/PROJECT/YORK UNIVERSITY/BACTERIOPHAGES/MANUSCRIPT/inventor_list_clean2.xlsx')\n",
        "pd.set_option('display.max_columns', None)\n",
        "print(len(inventor_clean))\n",
        "inventor_clean.head()"
      ]
    },
    {
      "cell_type": "code",
      "execution_count": null,
      "metadata": {
        "id": "d2OTYEWSRW-M"
      },
      "outputs": [],
      "source": []
    },
    {
      "cell_type": "code",
      "source": [],
      "metadata": {
        "id": "yKw33kPObnis"
      },
      "execution_count": null,
      "outputs": []
    },
    {
      "cell_type": "code",
      "source": [
        "def clean_entities(df1, df2, col_old, col_clean, col_name):\n",
        "    # Create a dictionary from df2 for mapping\n",
        "    disease_dict = df2.set_index(col_old)[col_clean].to_dict()\n",
        "\n",
        "    # Function to clean a single cell\n",
        "    #def clean_cell(cell):\n",
        "    def clean_cell(cell):\n",
        "        if isinstance(cell, str):\n",
        "            diseases = cell.split(';;')\n",
        "            cleaned = list(set([disease_dict.get(disease, disease) for disease in diseases if isinstance(disease_dict.get(disease, disease), str)]))\n",
        "            return ';;'.join(cleaned)\n",
        "        else:\n",
        "            return cell\n",
        "\n",
        "\n",
        "    # Apply the function to each cell in the 'Diseases_lemat_stop2' column\n",
        "    df1[col_name] = df1[col_old].apply(clean_cell)\n",
        "\n",
        "    return df1\n",
        "\n",
        "# Use the function\n",
        "#df1_clean = clean_diseases(df1, df2)\n"
      ],
      "metadata": {
        "id": "KF266Fb__pG0"
      },
      "execution_count": null,
      "outputs": []
    },
    {
      "cell_type": "code",
      "source": [],
      "metadata": {
        "id": "syqo-9LicrRQ"
      },
      "execution_count": null,
      "outputs": []
    },
    {
      "cell_type": "markdown",
      "source": [
        "#### clean inventors"
      ],
      "metadata": {
        "id": "cHorV-i1egmr"
      }
    },
    {
      "cell_type": "code",
      "source": [
        "df1 = data\n",
        "df2 =  inventor_clean\n",
        "col_old =  'Inventors'\n",
        "col_clean =  'inventors_clean'\n",
        "col_name = 'Inventors_clean'\n",
        "\n",
        "\n",
        "data = clean_entities(df1, df2, col_old, col_clean, col_name)#.reset_index()\n",
        "data"
      ],
      "metadata": {
        "id": "WF43-THytpPC"
      },
      "execution_count": null,
      "outputs": []
    },
    {
      "cell_type": "markdown",
      "source": [
        "#### clean applicants"
      ],
      "metadata": {
        "id": "ux5yjwyDepTF"
      }
    },
    {
      "cell_type": "code",
      "source": [
        "df1 = data\n",
        "df2 =  applicant_clean\n",
        "col_old =  'Applicants'\n",
        "col_clean =  'applicants_clean'\n",
        "col_name = 'Applicants_clean'\n",
        "\n",
        "\n",
        "data = clean_entities(df1, df2, col_old, col_clean, col_name)#.reset_index()\n",
        "data"
      ],
      "metadata": {
        "id": "TWoXJo11tpVx"
      },
      "execution_count": null,
      "outputs": []
    },
    {
      "cell_type": "markdown",
      "source": [
        "#### add applicants countries"
      ],
      "metadata": {
        "id": "2-Trb9c8fmkF"
      }
    },
    {
      "cell_type": "code",
      "source": [
        "df1 = data\n",
        "df2 =  applicant_clean\n",
        "col_old =  'Applicants'\n",
        "col_clean =  'country_clean'\n",
        "col_name = 'Applicants_countries'\n",
        "\n",
        "data = clean_entities(df1, df2, col_old, col_clean, col_name)#.reset_index()\n",
        "data"
      ],
      "metadata": {
        "id": "Otl7AwzetpZB"
      },
      "execution_count": null,
      "outputs": []
    },
    {
      "cell_type": "code",
      "source": [],
      "metadata": {
        "id": "2FjKqgvBtKAJ"
      },
      "execution_count": null,
      "outputs": []
    },
    {
      "cell_type": "markdown",
      "source": [
        "#### clean applicants not individual"
      ],
      "metadata": {
        "id": "05dEX93fn3OK"
      }
    },
    {
      "cell_type": "code",
      "source": [
        "df1 = data\n",
        "df2 =  applicant_clean\n",
        "col_old =  'Applicants'\n",
        "col_clean =  'applicants_clean_not_individual'\n",
        "col_name = 'applicants_clean_not_individual'\n",
        "\n",
        "\n",
        "data = clean_entities(df1, df2, col_old, col_clean, col_name)#.reset_index()\n",
        "data"
      ],
      "metadata": {
        "colab": {
          "base_uri": "https://localhost:8080/",
          "height": 1000
        },
        "outputId": "2c76809c-2ff8-4355-f8c7-59462dd9903d",
        "id": "mjYQ1QYun3OR"
      },
      "execution_count": null,
      "outputs": [
        {
          "output_type": "execute_result",
          "data": {
            "text/plain": [
              "         # Jurisdiction Kind         Display Key              Lens ID  \\\n",
              "0        1           RU   C2       RU 2214829 C2  069-390-611-717-343   \n",
              "1        2           JP    A     JP 2016104011 A  114-759-028-882-736   \n",
              "2        3           AU   A1   AU 2015/255318 A1  094-982-928-461-863   \n",
              "3        4           US   A1  US 2016/0022747 A1  167-908-891-122-112   \n",
              "4        5           AU   A1   AU 2017/204331 A1  112-018-476-081-94X   \n",
              "...    ...          ...  ...                 ...                  ...   \n",
              "2360  2361           GB    A        GB 1165745 A  150-422-589-010-681   \n",
              "2361  2362           GB    A        GB 1165354 A  058-819-734-343-222   \n",
              "2362  2363           SG    A   SG 11201907220U A  104-088-331-962-598   \n",
              "2363  2364           SG    A   SG 11201905788V A  147-487-067-847-82X   \n",
              "2364  2365           EA   B1        EA 004497 B1  121-474-665-038-612   \n",
              "\n",
              "     Publication Date  Publication Year Application Number Application Date  \\\n",
              "0          2003-10-27              2003    RU 2001129920 A       2001-11-05   \n",
              "1          2016-06-09              2016    JP 2015243657 A       2015-12-14   \n",
              "2          2015-12-03              2015   AU 2015/255318 A       2015-11-13   \n",
              "3          2016-01-28              2016  US 201514852112 A       2015-09-11   \n",
              "4          2017-07-13              2017   AU 2017/204331 A       2017-06-26   \n",
              "...               ...               ...                ...              ...   \n",
              "2360       1969-10-01              1969       GB 3886866 A       1966-08-31   \n",
              "2361       1969-09-24              1969       GB 3887066 A       1966-08-31   \n",
              "2362       2019-09-27              2019  SG 11201907220U A       2018-02-06   \n",
              "2363       2019-08-27              2019  SG 11201905788V A       2018-01-24   \n",
              "2364       2004-04-29              2004     EA 200100619 A       1999-12-03   \n",
              "\n",
              "                                       Priority Numbers  \\\n",
              "0                                       RU 2001129920 A   \n",
              "1                                         US 38401510 P   \n",
              "2     AU 2015/255318 A;;AU 2010/211456 A;;US 2183450...   \n",
              "3     US 201514852112 A;;US 201113148009 A;;PT 20100...   \n",
              "4     AU 2017/204331 A;;AU 2015/255313 A;;AU 2011/30...   \n",
              "...                                                 ...   \n",
              "2360                                      US 48872465 A   \n",
              "2361                                      US 48879965 A   \n",
              "2362                 US 201762456087 P;;CN 2018075474 W   \n",
              "2363  US 201762450038 P;;US 201762584011 P;;US 2018/...   \n",
              "2364                        US 11091198 P;;US 9928755 W   \n",
              "\n",
              "     Earliest Priority Date  \\\n",
              "0                2001-11-05   \n",
              "1                2010-09-17   \n",
              "2                2009-02-06   \n",
              "3                2009-02-06   \n",
              "4                2011-09-19   \n",
              "...                     ...   \n",
              "2360             1965-09-20   \n",
              "2361             1965-09-20   \n",
              "2362             2017-02-07   \n",
              "2363             2017-01-24   \n",
              "2364             1998-12-04   \n",
              "\n",
              "                                                  Title  \\\n",
              "0                  METHOD FOR TUBERCULOSIS PHAGOTHERAPY   \n",
              "1     ANTIBACTERIAL PHAGES, PHAGE PEPTIDES AND USE M...   \n",
              "2     Antibacterial phage, phage peptides and method...   \n",
              "3     Antibacterial Phage, Phage Peptides and Method...   \n",
              "4     Antibacterial phage, phage peptides and method...   \n",
              "...                                                 ...   \n",
              "2360                      Novel Dinucleoside Phosphates   \n",
              "2361                      Novel Dinucleoside Phosphates   \n",
              "2362          PROBE COMBINATION FOR DETECTION OF CANCER   \n",
              "2363  METHODS AND RELATED COMPOSITIONS FOR MANUFACTU...   \n",
              "2364  HBV CORE ANTIGEN PARTICLES WITH MULTIPLE IMMUN...   \n",
              "\n",
              "                                               Abstract  \\\n",
              "0     FIELD: medicine, phthisiology. SUBSTANCE: meth...   \n",
              "1     PROBLEM TO BE SOLVED: To provide novel bacteri...   \n",
              "2     The present invention is directed to the field...   \n",
              "3     The present invention is directed to the field...   \n",
              "4     The present invention is directed to the field...   \n",
              "...                                                 ...   \n",
              "2360  1,165,745. Dinucleoside phosphates. UPJOHN CO....   \n",
              "2361  1,165,354. Dinucleoside phosphates. UPJOHN CO....   \n",
              "2362  INTERNATIONAL APPLICATION PUBLISHED UNDER THE ...   \n",
              "2363  INTERNATIONAL APPLICATION PUBLISHED UNDER THE ...   \n",
              "2364  1. An HBV core antigen particle comprising at ...   \n",
              "\n",
              "                                             Applicants  \\\n",
              "0                             NOVOSIB NII T;;UBERKULEZA   \n",
              "1     TECNIFAR-INDUSTRIA TECNICA FARM S A;;TECHNOPHA...   \n",
              "2     TECNIFAR INDÚSTRIA TÉCNICA FARMACÉUTICA S A;;T...   \n",
              "3     TECHNOPHAGE INVESTIGACAO E DESENVOLVIMENTO EM ...   \n",
              "4     TECHNOPHAGE INVESTIGACAO E DESENVOLVIMENTO EM ...   \n",
              "...                                                 ...   \n",
              "2360                                          UPJOHN CO   \n",
              "2361                                          UPJOHN CO   \n",
              "2362                               TCM BIOTECH INT CORP   \n",
              "2363              FLAGSHIP PIONEERING INNOVATIONS V INC   \n",
              "2364                                         BIOGEN INC   \n",
              "\n",
              "                                              Inventors  \\\n",
              "0             KURUNOV JU N;;KURUNOVA N N;;SHATALOVA N D   \n",
              "1     MIGUEL ANGELO DA COSTA GARCIA;;CARLOS JORGE SO...   \n",
              "2     DA COSTA GARCIA MIGUEL ÂNGELO;;SOUSA DE SÃO JO...   \n",
              "3     DA COSTA GARCIA MIGUEL ANGELO;;SOUSA DE SAO JO...   \n",
              "4     DA COSTA GARCIA MIGUEL ANGELO;;SOUSA DE SAO JO...   \n",
              "...                                                 ...   \n",
              "2360                                                NaN   \n",
              "2361                                                NaN   \n",
              "2362          LIN YOU-YU;;WANG YA-CHUN;;TZENG SHENG-TAI   \n",
              "2363  MARTINEZ IGNACIO;;ARMEN ZACHARY;;CEZAR CHRISTI...   \n",
              "2364                                     MURRAY KENNETH   \n",
              "\n",
              "                                                 Owners  \\\n",
              "0                                                   NaN   \n",
              "1                                                   NaN   \n",
              "2     TECHNOPHAGE, INVESTIGACAO E DESENVOLVIMENTO EM...   \n",
              "3     TECHNOPHAGE INVESTIGACAO E DESENVOLVIMENTO EM ...   \n",
              "4                                                   NaN   \n",
              "...                                                 ...   \n",
              "2360                                                NaN   \n",
              "2361                                                NaN   \n",
              "2362                                                NaN   \n",
              "2363                                                NaN   \n",
              "2364                                                NaN   \n",
              "\n",
              "                                       URL       Document Type Has Full Text  \\\n",
              "0     https://lens.org/069-390-611-717-343      Granted Patent            no   \n",
              "1     https://lens.org/114-759-028-882-736  Patent Application            no   \n",
              "2     https://lens.org/094-982-928-461-863  Patent Application            no   \n",
              "3     https://lens.org/167-908-891-122-112  Patent Application           yes   \n",
              "4     https://lens.org/112-018-476-081-94X  Patent Application            no   \n",
              "...                                    ...                 ...           ...   \n",
              "2360  https://lens.org/150-422-589-010-681      Granted Patent            no   \n",
              "2361  https://lens.org/058-819-734-343-222      Granted Patent            no   \n",
              "2362  https://lens.org/104-088-331-962-598             Unknown            no   \n",
              "2363  https://lens.org/147-487-067-847-82X             Unknown            no   \n",
              "2364  https://lens.org/121-474-665-038-612      Granted Patent            no   \n",
              "\n",
              "      Cites Patent Count  Cited by Patent Count  Simple Family Size  \\\n",
              "0                      0                      4                   1   \n",
              "1                      1                      1                  48   \n",
              "2                      0                      0                   3   \n",
              "3                      0                      1                  42   \n",
              "4                      0                      3                   1   \n",
              "...                  ...                    ...                 ...   \n",
              "2360                   0                      0                   7   \n",
              "2361                   0                      0                   7   \n",
              "2362                   0                      0                  14   \n",
              "2363                   0                      0                  18   \n",
              "2364                   0                      0                  47   \n",
              "\n",
              "      Extended Family Size  Sequence Count  \\\n",
              "0                        1               0   \n",
              "1                       48            1300   \n",
              "2                       45               0   \n",
              "3                       45             816   \n",
              "4                        1               0   \n",
              "...                    ...             ...   \n",
              "2360                     7               0   \n",
              "2361                     7               0   \n",
              "2362                    14               0   \n",
              "2363                    19               0   \n",
              "2364                    47               0   \n",
              "\n",
              "                                    CPC Classifications  \\\n",
              "0                                                   NaN   \n",
              "1     C12N2795/00032;;A61K31/505;;A61K31/7056;;A61K3...   \n",
              "2                                                   NaN   \n",
              "3     A61K38/00;;A61K45/06;;C07K14/005;;C12N7/00;;C1...   \n",
              "4                                             Y02A50/30   \n",
              "...                                                 ...   \n",
              "2360  C07H19/14;;C07H19/14;;Y02P20/55;;Y02P20/55;;Y1...   \n",
              "2361  C07H19/04;;C07H19/044;;C07H19/207;;C08F2/00;;C...   \n",
              "2362  C12Q1/6886;;C12Q1/706;;C12Q1/6886;;C12Q1/706;;...   \n",
              "2363  C12N1/20;;A23K50/90;;A23K10/18;;A23K20/142;;A2...   \n",
              "2364  A61K39/00;;A61K39/29;;A61K39/292;;A61K39/385;;...   \n",
              "\n",
              "                                   IPCR Classifications  \\\n",
              "0                                  A61K35/76;;A61P31/06   \n",
              "1             C12N7/00;;A61K35/76;;A61P31/04;;C12N15/09   \n",
              "2                       A61K35/76;;C12N9/14;;G01N33/569   \n",
              "3                         A61K35/76;;A61K9/00;;C12N7/00   \n",
              "4                                   A61K35/76;;C12N7/00   \n",
              "...                                                 ...   \n",
              "2360                                          C07H19/14   \n",
              "2361  C07H19/04;;C07H19/044;;C07H19/207;;C08F2/00;;C...   \n",
              "2362                                           C12Q1/68   \n",
              "2363   A21D2/00;;A23C9/12;;C12N1/00;;C12N1/12;;C12P1/00   \n",
              "2364  A61K39/00;;A61K39/29;;A61K39/295;;A61K39/385;;...   \n",
              "\n",
              "                                     US Classifications  NPL Citation Count  \\\n",
              "0                                                   NaN                   0   \n",
              "1                                                   NaN                   0   \n",
              "2                                                   NaN                   0   \n",
              "3                                                   NaN                   0   \n",
              "4                                                   NaN                   0   \n",
              "...                                                 ...                 ...   \n",
              "2360  C2A A1B           -;;C2A A1C2C         -;;C2A ...                   0   \n",
              "2361  C2A A1B           -;;C2A A1C2C         -;;C2C ...                   0   \n",
              "2362                                                NaN                   0   \n",
              "2363                                                NaN                   0   \n",
              "2364                                                NaN                   0   \n",
              "\n",
              "      NPL Resolved Citation Count NPL Resolved Lens ID(s)  \\\n",
              "0                               0                     NaN   \n",
              "1                               0                     NaN   \n",
              "2                               0                     NaN   \n",
              "3                               0                     NaN   \n",
              "4                               0                     NaN   \n",
              "...                           ...                     ...   \n",
              "2360                            0                     NaN   \n",
              "2361                            0                     NaN   \n",
              "2362                            0                     NaN   \n",
              "2363                            0                     NaN   \n",
              "2364                            0                     NaN   \n",
              "\n",
              "     NPL Resolved External ID(s) NPL Citations  Legal Status Topic N°  \\\n",
              "0                            NaN           NaN       EXPIRED  Topic 2   \n",
              "1                            NaN           NaN        ACTIVE  Topic 3   \n",
              "2                            NaN           NaN        ACTIVE  Topic 3   \n",
              "3                            NaN           NaN        ACTIVE      NaN   \n",
              "4                            NaN           NaN  DISCONTINUED  Topic 3   \n",
              "...                          ...           ...           ...      ...   \n",
              "2360                         NaN           NaN       EXPIRED  Topic 0   \n",
              "2361                         NaN           NaN       EXPIRED  Topic 0   \n",
              "2362                         NaN           NaN       PENDING  Topic 4   \n",
              "2363                         NaN           NaN       PENDING  Topic 6   \n",
              "2364                         NaN           NaN       EXPIRED  Topic 9   \n",
              "\n",
              "      Application Year  Earliest Priority Year Application_Year_Range  \\\n",
              "0                 2001                    2001              2000-2004   \n",
              "1                 2015                    2010              2015-2019   \n",
              "2                 2015                    2009              2015-2019   \n",
              "3                 2015                    2009              2015-2019   \n",
              "4                 2017                    2011              2015-2019   \n",
              "...                ...                     ...                    ...   \n",
              "2360              1966                    1965              1965-1969   \n",
              "2361              1966                    1965              1965-1969   \n",
              "2362              2018                    2017              2015-2019   \n",
              "2363              2018                    2017              2015-2019   \n",
              "2364              1999                    1998              1995-1999   \n",
              "\n",
              "     IPCR Sections          IPCR Class           IPCR Subclass  \\\n",
              "0                A                 A61              A61K;;A61P   \n",
              "1             A;;C            A61;;C12        A61K;;A61P;;C12N   \n",
              "2          A;;C;;G       A61;;C12;;G01        A61K;;C12N;;G01N   \n",
              "3             A;;C            A61;;C12              A61K;;C12N   \n",
              "4             A;;C            A61;;C12              A61K;;C12N   \n",
              "...            ...                 ...                     ...   \n",
              "2360             C                 C07                    C07H   \n",
              "2361             C       C07;;C08;;C12        C07H;;C08F;;C12P   \n",
              "2362             C                 C12                    C12Q   \n",
              "2363          A;;C       A21;;A23;;C12  A21D;;A23C;;C12N;;C12P   \n",
              "2364       A;;C;;G  A61;;C07;;C12;;G01  A61K;;C07K;;C12N;;G01N   \n",
              "\n",
              "         Jurisdiction_name Jurisdiction_Region  \\\n",
              "0                   Russia              Europe   \n",
              "1                    Japan                Asia   \n",
              "2                Australia             Oceania   \n",
              "3            United States       North America   \n",
              "4                Australia             Oceania   \n",
              "...                    ...                 ...   \n",
              "2360        United Kingdom              Europe   \n",
              "2361        United Kingdom              Europe   \n",
              "2362             Singapore                Asia   \n",
              "2363             Singapore                Asia   \n",
              "2364  Eurasian Patent Org.             Eurasia   \n",
              "\n",
              "                                        Inventors_clean  \\\n",
              "0             SHATALOVA N D;;KURUNOVA N N;;KURUNOV JU N   \n",
              "1     CARLOS JORGE SOUSA DE SAO JOSE;;ANA RAQUEL MAR...   \n",
              "2     CARLOS JORGE SOUSA DE SAO JOSE;;FERREIRA LLORE...   \n",
              "3     CARLOS JORGE SOUSA DE SAO JOSE;;FERREIRA LLORE...   \n",
              "4     CARLOS JORGE SOUSA DE SAO JOSE;;ANA RAQUEL MAR...   \n",
              "...                                                 ...   \n",
              "2360                                                NaN   \n",
              "2361                                                NaN   \n",
              "2362          WANG YA-CHUN;;TZENG SHENG-TAI;;LIN YOU-YU   \n",
              "2363  AVENDANO AMADO MAIER;;CEZAR CHRISTINE;;ARMEN Z...   \n",
              "2364                                     MURRAY KENNETH   \n",
              "\n",
              "                                       Applicants_clean  \\\n",
              "0                             UBERKULEZA;;NOVOSIB NII T   \n",
              "1     TECNIFAR INDUSTRIA TECNICA FARMACEUTICA SA;;Te...   \n",
              "2     TECNIFAR INDUSTRIA TECNICA FARMACEUTICA SA;;Te...   \n",
              "3     TECNIFAR INDUSTRIA TECNICA FARMACEUTICA SA;;Te...   \n",
              "4     TECNIFAR INDUSTRIA TECNICA FARMACEUTICA SA;;Te...   \n",
              "...                                                 ...   \n",
              "2360                                          UPJOHN CO   \n",
              "2361                                          UPJOHN CO   \n",
              "2362                               TCM BIOTECH INT CORP   \n",
              "2363              FLAGSHIP PIONEERING INNOVATIONS V INC   \n",
              "2364                                         BIOGEN INC   \n",
              "\n",
              "                        applicants_clean_not_individual  \n",
              "0                                         NOVOSIB NII T  \n",
              "1     TECNIFAR INDUSTRIA TECNICA FARMACEUTICA SA;;Te...  \n",
              "2     TECNIFAR INDUSTRIA TECNICA FARMACEUTICA SA;;Te...  \n",
              "3     TECNIFAR INDUSTRIA TECNICA FARMACEUTICA SA;;Te...  \n",
              "4     TECNIFAR INDUSTRIA TECNICA FARMACEUTICA SA;;Te...  \n",
              "...                                                 ...  \n",
              "2360                                          UPJOHN CO  \n",
              "2361                                          UPJOHN CO  \n",
              "2362                               TCM BIOTECH INT CORP  \n",
              "2363              FLAGSHIP PIONEERING INNOVATIONS V INC  \n",
              "2364                                         BIOGEN INC  \n",
              "\n",
              "[2365 rows x 45 columns]"
            ],
            "text/html": [
              "\n",
              "  <div id=\"df-6b4b524c-a946-4732-ad66-359a8ba380e1\" class=\"colab-df-container\">\n",
              "    <div>\n",
              "<style scoped>\n",
              "    .dataframe tbody tr th:only-of-type {\n",
              "        vertical-align: middle;\n",
              "    }\n",
              "\n",
              "    .dataframe tbody tr th {\n",
              "        vertical-align: top;\n",
              "    }\n",
              "\n",
              "    .dataframe thead th {\n",
              "        text-align: right;\n",
              "    }\n",
              "</style>\n",
              "<table border=\"1\" class=\"dataframe\">\n",
              "  <thead>\n",
              "    <tr style=\"text-align: right;\">\n",
              "      <th></th>\n",
              "      <th>#</th>\n",
              "      <th>Jurisdiction</th>\n",
              "      <th>Kind</th>\n",
              "      <th>Display Key</th>\n",
              "      <th>Lens ID</th>\n",
              "      <th>Publication Date</th>\n",
              "      <th>Publication Year</th>\n",
              "      <th>Application Number</th>\n",
              "      <th>Application Date</th>\n",
              "      <th>Priority Numbers</th>\n",
              "      <th>Earliest Priority Date</th>\n",
              "      <th>Title</th>\n",
              "      <th>Abstract</th>\n",
              "      <th>Applicants</th>\n",
              "      <th>Inventors</th>\n",
              "      <th>Owners</th>\n",
              "      <th>URL</th>\n",
              "      <th>Document Type</th>\n",
              "      <th>Has Full Text</th>\n",
              "      <th>Cites Patent Count</th>\n",
              "      <th>Cited by Patent Count</th>\n",
              "      <th>Simple Family Size</th>\n",
              "      <th>Extended Family Size</th>\n",
              "      <th>Sequence Count</th>\n",
              "      <th>CPC Classifications</th>\n",
              "      <th>IPCR Classifications</th>\n",
              "      <th>US Classifications</th>\n",
              "      <th>NPL Citation Count</th>\n",
              "      <th>NPL Resolved Citation Count</th>\n",
              "      <th>NPL Resolved Lens ID(s)</th>\n",
              "      <th>NPL Resolved External ID(s)</th>\n",
              "      <th>NPL Citations</th>\n",
              "      <th>Legal Status</th>\n",
              "      <th>Topic N°</th>\n",
              "      <th>Application Year</th>\n",
              "      <th>Earliest Priority Year</th>\n",
              "      <th>Application_Year_Range</th>\n",
              "      <th>IPCR Sections</th>\n",
              "      <th>IPCR Class</th>\n",
              "      <th>IPCR Subclass</th>\n",
              "      <th>Jurisdiction_name</th>\n",
              "      <th>Jurisdiction_Region</th>\n",
              "      <th>Inventors_clean</th>\n",
              "      <th>Applicants_clean</th>\n",
              "      <th>applicants_clean_not_individual</th>\n",
              "    </tr>\n",
              "  </thead>\n",
              "  <tbody>\n",
              "    <tr>\n",
              "      <th>0</th>\n",
              "      <td>1</td>\n",
              "      <td>RU</td>\n",
              "      <td>C2</td>\n",
              "      <td>RU 2214829 C2</td>\n",
              "      <td>069-390-611-717-343</td>\n",
              "      <td>2003-10-27</td>\n",
              "      <td>2003</td>\n",
              "      <td>RU 2001129920 A</td>\n",
              "      <td>2001-11-05</td>\n",
              "      <td>RU 2001129920 A</td>\n",
              "      <td>2001-11-05</td>\n",
              "      <td>METHOD FOR TUBERCULOSIS PHAGOTHERAPY</td>\n",
              "      <td>FIELD: medicine, phthisiology. SUBSTANCE: meth...</td>\n",
              "      <td>NOVOSIB NII T;;UBERKULEZA</td>\n",
              "      <td>KURUNOV JU N;;KURUNOVA N N;;SHATALOVA N D</td>\n",
              "      <td>NaN</td>\n",
              "      <td>https://lens.org/069-390-611-717-343</td>\n",
              "      <td>Granted Patent</td>\n",
              "      <td>no</td>\n",
              "      <td>0</td>\n",
              "      <td>4</td>\n",
              "      <td>1</td>\n",
              "      <td>1</td>\n",
              "      <td>0</td>\n",
              "      <td>NaN</td>\n",
              "      <td>A61K35/76;;A61P31/06</td>\n",
              "      <td>NaN</td>\n",
              "      <td>0</td>\n",
              "      <td>0</td>\n",
              "      <td>NaN</td>\n",
              "      <td>NaN</td>\n",
              "      <td>NaN</td>\n",
              "      <td>EXPIRED</td>\n",
              "      <td>Topic 2</td>\n",
              "      <td>2001</td>\n",
              "      <td>2001</td>\n",
              "      <td>2000-2004</td>\n",
              "      <td>A</td>\n",
              "      <td>A61</td>\n",
              "      <td>A61K;;A61P</td>\n",
              "      <td>Russia</td>\n",
              "      <td>Europe</td>\n",
              "      <td>SHATALOVA N D;;KURUNOVA N N;;KURUNOV JU N</td>\n",
              "      <td>UBERKULEZA;;NOVOSIB NII T</td>\n",
              "      <td>NOVOSIB NII T</td>\n",
              "    </tr>\n",
              "    <tr>\n",
              "      <th>1</th>\n",
              "      <td>2</td>\n",
              "      <td>JP</td>\n",
              "      <td>A</td>\n",
              "      <td>JP 2016104011 A</td>\n",
              "      <td>114-759-028-882-736</td>\n",
              "      <td>2016-06-09</td>\n",
              "      <td>2016</td>\n",
              "      <td>JP 2015243657 A</td>\n",
              "      <td>2015-12-14</td>\n",
              "      <td>US 38401510 P</td>\n",
              "      <td>2010-09-17</td>\n",
              "      <td>ANTIBACTERIAL PHAGES, PHAGE PEPTIDES AND USE M...</td>\n",
              "      <td>PROBLEM TO BE SOLVED: To provide novel bacteri...</td>\n",
              "      <td>TECNIFAR-INDUSTRIA TECNICA FARM S A;;TECHNOPHA...</td>\n",
              "      <td>MIGUEL ANGELO DA COSTA GARCIA;;CARLOS JORGE SO...</td>\n",
              "      <td>NaN</td>\n",
              "      <td>https://lens.org/114-759-028-882-736</td>\n",
              "      <td>Patent Application</td>\n",
              "      <td>no</td>\n",
              "      <td>1</td>\n",
              "      <td>1</td>\n",
              "      <td>48</td>\n",
              "      <td>48</td>\n",
              "      <td>1300</td>\n",
              "      <td>C12N2795/00032;;A61K31/505;;A61K31/7056;;A61K3...</td>\n",
              "      <td>C12N7/00;;A61K35/76;;A61P31/04;;C12N15/09</td>\n",
              "      <td>NaN</td>\n",
              "      <td>0</td>\n",
              "      <td>0</td>\n",
              "      <td>NaN</td>\n",
              "      <td>NaN</td>\n",
              "      <td>NaN</td>\n",
              "      <td>ACTIVE</td>\n",
              "      <td>Topic 3</td>\n",
              "      <td>2015</td>\n",
              "      <td>2010</td>\n",
              "      <td>2015-2019</td>\n",
              "      <td>A;;C</td>\n",
              "      <td>A61;;C12</td>\n",
              "      <td>A61K;;A61P;;C12N</td>\n",
              "      <td>Japan</td>\n",
              "      <td>Asia</td>\n",
              "      <td>CARLOS JORGE SOUSA DE SAO JOSE;;ANA RAQUEL MAR...</td>\n",
              "      <td>TECNIFAR INDUSTRIA TECNICA FARMACEUTICA SA;;Te...</td>\n",
              "      <td>TECNIFAR INDUSTRIA TECNICA FARMACEUTICA SA;;Te...</td>\n",
              "    </tr>\n",
              "    <tr>\n",
              "      <th>2</th>\n",
              "      <td>3</td>\n",
              "      <td>AU</td>\n",
              "      <td>A1</td>\n",
              "      <td>AU 2015/255318 A1</td>\n",
              "      <td>094-982-928-461-863</td>\n",
              "      <td>2015-12-03</td>\n",
              "      <td>2015</td>\n",
              "      <td>AU 2015/255318 A</td>\n",
              "      <td>2015-11-13</td>\n",
              "      <td>AU 2015/255318 A;;AU 2010/211456 A;;US 2183450...</td>\n",
              "      <td>2009-02-06</td>\n",
              "      <td>Antibacterial phage, phage peptides and method...</td>\n",
              "      <td>The present invention is directed to the field...</td>\n",
              "      <td>TECNIFAR INDÚSTRIA TÉCNICA FARMACÉUTICA S A;;T...</td>\n",
              "      <td>DA COSTA GARCIA MIGUEL ÂNGELO;;SOUSA DE SÃO JO...</td>\n",
              "      <td>TECHNOPHAGE, INVESTIGACAO E DESENVOLVIMENTO EM...</td>\n",
              "      <td>https://lens.org/094-982-928-461-863</td>\n",
              "      <td>Patent Application</td>\n",
              "      <td>no</td>\n",
              "      <td>0</td>\n",
              "      <td>0</td>\n",
              "      <td>3</td>\n",
              "      <td>45</td>\n",
              "      <td>0</td>\n",
              "      <td>NaN</td>\n",
              "      <td>A61K35/76;;C12N9/14;;G01N33/569</td>\n",
              "      <td>NaN</td>\n",
              "      <td>0</td>\n",
              "      <td>0</td>\n",
              "      <td>NaN</td>\n",
              "      <td>NaN</td>\n",
              "      <td>NaN</td>\n",
              "      <td>ACTIVE</td>\n",
              "      <td>Topic 3</td>\n",
              "      <td>2015</td>\n",
              "      <td>2009</td>\n",
              "      <td>2015-2019</td>\n",
              "      <td>A;;C;;G</td>\n",
              "      <td>A61;;C12;;G01</td>\n",
              "      <td>A61K;;C12N;;G01N</td>\n",
              "      <td>Australia</td>\n",
              "      <td>Oceania</td>\n",
              "      <td>CARLOS JORGE SOUSA DE SAO JOSE;;FERREIRA LLORE...</td>\n",
              "      <td>TECNIFAR INDUSTRIA TECNICA FARMACEUTICA SA;;Te...</td>\n",
              "      <td>TECNIFAR INDUSTRIA TECNICA FARMACEUTICA SA;;Te...</td>\n",
              "    </tr>\n",
              "    <tr>\n",
              "      <th>3</th>\n",
              "      <td>4</td>\n",
              "      <td>US</td>\n",
              "      <td>A1</td>\n",
              "      <td>US 2016/0022747 A1</td>\n",
              "      <td>167-908-891-122-112</td>\n",
              "      <td>2016-01-28</td>\n",
              "      <td>2016</td>\n",
              "      <td>US 201514852112 A</td>\n",
              "      <td>2015-09-11</td>\n",
              "      <td>US 201514852112 A;;US 201113148009 A;;PT 20100...</td>\n",
              "      <td>2009-02-06</td>\n",
              "      <td>Antibacterial Phage, Phage Peptides and Method...</td>\n",
              "      <td>The present invention is directed to the field...</td>\n",
              "      <td>TECHNOPHAGE INVESTIGACAO E DESENVOLVIMENTO EM ...</td>\n",
              "      <td>DA COSTA GARCIA MIGUEL ANGELO;;SOUSA DE SAO JO...</td>\n",
              "      <td>TECHNOPHAGE INVESTIGACAO E DESENVOLVIMENTO EM ...</td>\n",
              "      <td>https://lens.org/167-908-891-122-112</td>\n",
              "      <td>Patent Application</td>\n",
              "      <td>yes</td>\n",
              "      <td>0</td>\n",
              "      <td>1</td>\n",
              "      <td>42</td>\n",
              "      <td>45</td>\n",
              "      <td>816</td>\n",
              "      <td>A61K38/00;;A61K45/06;;C07K14/005;;C12N7/00;;C1...</td>\n",
              "      <td>A61K35/76;;A61K9/00;;C12N7/00</td>\n",
              "      <td>NaN</td>\n",
              "      <td>0</td>\n",
              "      <td>0</td>\n",
              "      <td>NaN</td>\n",
              "      <td>NaN</td>\n",
              "      <td>NaN</td>\n",
              "      <td>ACTIVE</td>\n",
              "      <td>NaN</td>\n",
              "      <td>2015</td>\n",
              "      <td>2009</td>\n",
              "      <td>2015-2019</td>\n",
              "      <td>A;;C</td>\n",
              "      <td>A61;;C12</td>\n",
              "      <td>A61K;;C12N</td>\n",
              "      <td>United States</td>\n",
              "      <td>North America</td>\n",
              "      <td>CARLOS JORGE SOUSA DE SAO JOSE;;FERREIRA LLORE...</td>\n",
              "      <td>TECNIFAR INDUSTRIA TECNICA FARMACEUTICA SA;;Te...</td>\n",
              "      <td>TECNIFAR INDUSTRIA TECNICA FARMACEUTICA SA;;Te...</td>\n",
              "    </tr>\n",
              "    <tr>\n",
              "      <th>4</th>\n",
              "      <td>5</td>\n",
              "      <td>AU</td>\n",
              "      <td>A1</td>\n",
              "      <td>AU 2017/204331 A1</td>\n",
              "      <td>112-018-476-081-94X</td>\n",
              "      <td>2017-07-13</td>\n",
              "      <td>2017</td>\n",
              "      <td>AU 2017/204331 A</td>\n",
              "      <td>2017-06-26</td>\n",
              "      <td>AU 2017/204331 A;;AU 2015/255313 A;;AU 2011/30...</td>\n",
              "      <td>2011-09-19</td>\n",
              "      <td>Antibacterial phage, phage peptides and method...</td>\n",
              "      <td>The present invention is directed to the field...</td>\n",
              "      <td>TECHNOPHAGE INVESTIGACAO E DESENVOLVIMENTO EM ...</td>\n",
              "      <td>DA COSTA GARCIA MIGUEL ANGELO;;SOUSA DE SAO JO...</td>\n",
              "      <td>NaN</td>\n",
              "      <td>https://lens.org/112-018-476-081-94X</td>\n",
              "      <td>Patent Application</td>\n",
              "      <td>no</td>\n",
              "      <td>0</td>\n",
              "      <td>3</td>\n",
              "      <td>1</td>\n",
              "      <td>1</td>\n",
              "      <td>0</td>\n",
              "      <td>Y02A50/30</td>\n",
              "      <td>A61K35/76;;C12N7/00</td>\n",
              "      <td>NaN</td>\n",
              "      <td>0</td>\n",
              "      <td>0</td>\n",
              "      <td>NaN</td>\n",
              "      <td>NaN</td>\n",
              "      <td>NaN</td>\n",
              "      <td>DISCONTINUED</td>\n",
              "      <td>Topic 3</td>\n",
              "      <td>2017</td>\n",
              "      <td>2011</td>\n",
              "      <td>2015-2019</td>\n",
              "      <td>A;;C</td>\n",
              "      <td>A61;;C12</td>\n",
              "      <td>A61K;;C12N</td>\n",
              "      <td>Australia</td>\n",
              "      <td>Oceania</td>\n",
              "      <td>CARLOS JORGE SOUSA DE SAO JOSE;;ANA RAQUEL MAR...</td>\n",
              "      <td>TECNIFAR INDUSTRIA TECNICA FARMACEUTICA SA;;Te...</td>\n",
              "      <td>TECNIFAR INDUSTRIA TECNICA FARMACEUTICA SA;;Te...</td>\n",
              "    </tr>\n",
              "    <tr>\n",
              "      <th>...</th>\n",
              "      <td>...</td>\n",
              "      <td>...</td>\n",
              "      <td>...</td>\n",
              "      <td>...</td>\n",
              "      <td>...</td>\n",
              "      <td>...</td>\n",
              "      <td>...</td>\n",
              "      <td>...</td>\n",
              "      <td>...</td>\n",
              "      <td>...</td>\n",
              "      <td>...</td>\n",
              "      <td>...</td>\n",
              "      <td>...</td>\n",
              "      <td>...</td>\n",
              "      <td>...</td>\n",
              "      <td>...</td>\n",
              "      <td>...</td>\n",
              "      <td>...</td>\n",
              "      <td>...</td>\n",
              "      <td>...</td>\n",
              "      <td>...</td>\n",
              "      <td>...</td>\n",
              "      <td>...</td>\n",
              "      <td>...</td>\n",
              "      <td>...</td>\n",
              "      <td>...</td>\n",
              "      <td>...</td>\n",
              "      <td>...</td>\n",
              "      <td>...</td>\n",
              "      <td>...</td>\n",
              "      <td>...</td>\n",
              "      <td>...</td>\n",
              "      <td>...</td>\n",
              "      <td>...</td>\n",
              "      <td>...</td>\n",
              "      <td>...</td>\n",
              "      <td>...</td>\n",
              "      <td>...</td>\n",
              "      <td>...</td>\n",
              "      <td>...</td>\n",
              "      <td>...</td>\n",
              "      <td>...</td>\n",
              "      <td>...</td>\n",
              "      <td>...</td>\n",
              "      <td>...</td>\n",
              "    </tr>\n",
              "    <tr>\n",
              "      <th>2360</th>\n",
              "      <td>2361</td>\n",
              "      <td>GB</td>\n",
              "      <td>A</td>\n",
              "      <td>GB 1165745 A</td>\n",
              "      <td>150-422-589-010-681</td>\n",
              "      <td>1969-10-01</td>\n",
              "      <td>1969</td>\n",
              "      <td>GB 3886866 A</td>\n",
              "      <td>1966-08-31</td>\n",
              "      <td>US 48872465 A</td>\n",
              "      <td>1965-09-20</td>\n",
              "      <td>Novel Dinucleoside Phosphates</td>\n",
              "      <td>1,165,745. Dinucleoside phosphates. UPJOHN CO....</td>\n",
              "      <td>UPJOHN CO</td>\n",
              "      <td>NaN</td>\n",
              "      <td>NaN</td>\n",
              "      <td>https://lens.org/150-422-589-010-681</td>\n",
              "      <td>Granted Patent</td>\n",
              "      <td>no</td>\n",
              "      <td>0</td>\n",
              "      <td>0</td>\n",
              "      <td>7</td>\n",
              "      <td>7</td>\n",
              "      <td>0</td>\n",
              "      <td>C07H19/14;;C07H19/14;;Y02P20/55;;Y02P20/55;;Y1...</td>\n",
              "      <td>C07H19/14</td>\n",
              "      <td>C2A A1B           -;;C2A A1C2C         -;;C2A ...</td>\n",
              "      <td>0</td>\n",
              "      <td>0</td>\n",
              "      <td>NaN</td>\n",
              "      <td>NaN</td>\n",
              "      <td>NaN</td>\n",
              "      <td>EXPIRED</td>\n",
              "      <td>Topic 0</td>\n",
              "      <td>1966</td>\n",
              "      <td>1965</td>\n",
              "      <td>1965-1969</td>\n",
              "      <td>C</td>\n",
              "      <td>C07</td>\n",
              "      <td>C07H</td>\n",
              "      <td>United Kingdom</td>\n",
              "      <td>Europe</td>\n",
              "      <td>NaN</td>\n",
              "      <td>UPJOHN CO</td>\n",
              "      <td>UPJOHN CO</td>\n",
              "    </tr>\n",
              "    <tr>\n",
              "      <th>2361</th>\n",
              "      <td>2362</td>\n",
              "      <td>GB</td>\n",
              "      <td>A</td>\n",
              "      <td>GB 1165354 A</td>\n",
              "      <td>058-819-734-343-222</td>\n",
              "      <td>1969-09-24</td>\n",
              "      <td>1969</td>\n",
              "      <td>GB 3887066 A</td>\n",
              "      <td>1966-08-31</td>\n",
              "      <td>US 48879965 A</td>\n",
              "      <td>1965-09-20</td>\n",
              "      <td>Novel Dinucleoside Phosphates</td>\n",
              "      <td>1,165,354. Dinucleoside phosphates. UPJOHN CO....</td>\n",
              "      <td>UPJOHN CO</td>\n",
              "      <td>NaN</td>\n",
              "      <td>NaN</td>\n",
              "      <td>https://lens.org/058-819-734-343-222</td>\n",
              "      <td>Granted Patent</td>\n",
              "      <td>no</td>\n",
              "      <td>0</td>\n",
              "      <td>0</td>\n",
              "      <td>7</td>\n",
              "      <td>7</td>\n",
              "      <td>0</td>\n",
              "      <td>C07H19/04;;C07H19/044;;C07H19/207;;C08F2/00;;C...</td>\n",
              "      <td>C07H19/04;;C07H19/044;;C07H19/207;;C08F2/00;;C...</td>\n",
              "      <td>C2A A1B           -;;C2A A1C2C         -;;C2C ...</td>\n",
              "      <td>0</td>\n",
              "      <td>0</td>\n",
              "      <td>NaN</td>\n",
              "      <td>NaN</td>\n",
              "      <td>NaN</td>\n",
              "      <td>EXPIRED</td>\n",
              "      <td>Topic 0</td>\n",
              "      <td>1966</td>\n",
              "      <td>1965</td>\n",
              "      <td>1965-1969</td>\n",
              "      <td>C</td>\n",
              "      <td>C07;;C08;;C12</td>\n",
              "      <td>C07H;;C08F;;C12P</td>\n",
              "      <td>United Kingdom</td>\n",
              "      <td>Europe</td>\n",
              "      <td>NaN</td>\n",
              "      <td>UPJOHN CO</td>\n",
              "      <td>UPJOHN CO</td>\n",
              "    </tr>\n",
              "    <tr>\n",
              "      <th>2362</th>\n",
              "      <td>2363</td>\n",
              "      <td>SG</td>\n",
              "      <td>A</td>\n",
              "      <td>SG 11201907220U A</td>\n",
              "      <td>104-088-331-962-598</td>\n",
              "      <td>2019-09-27</td>\n",
              "      <td>2019</td>\n",
              "      <td>SG 11201907220U A</td>\n",
              "      <td>2018-02-06</td>\n",
              "      <td>US 201762456087 P;;CN 2018075474 W</td>\n",
              "      <td>2017-02-07</td>\n",
              "      <td>PROBE COMBINATION FOR DETECTION OF CANCER</td>\n",
              "      <td>INTERNATIONAL APPLICATION PUBLISHED UNDER THE ...</td>\n",
              "      <td>TCM BIOTECH INT CORP</td>\n",
              "      <td>LIN YOU-YU;;WANG YA-CHUN;;TZENG SHENG-TAI</td>\n",
              "      <td>NaN</td>\n",
              "      <td>https://lens.org/104-088-331-962-598</td>\n",
              "      <td>Unknown</td>\n",
              "      <td>no</td>\n",
              "      <td>0</td>\n",
              "      <td>0</td>\n",
              "      <td>14</td>\n",
              "      <td>14</td>\n",
              "      <td>0</td>\n",
              "      <td>C12Q1/6886;;C12Q1/706;;C12Q1/6886;;C12Q1/706;;...</td>\n",
              "      <td>C12Q1/68</td>\n",
              "      <td>NaN</td>\n",
              "      <td>0</td>\n",
              "      <td>0</td>\n",
              "      <td>NaN</td>\n",
              "      <td>NaN</td>\n",
              "      <td>NaN</td>\n",
              "      <td>PENDING</td>\n",
              "      <td>Topic 4</td>\n",
              "      <td>2018</td>\n",
              "      <td>2017</td>\n",
              "      <td>2015-2019</td>\n",
              "      <td>C</td>\n",
              "      <td>C12</td>\n",
              "      <td>C12Q</td>\n",
              "      <td>Singapore</td>\n",
              "      <td>Asia</td>\n",
              "      <td>WANG YA-CHUN;;TZENG SHENG-TAI;;LIN YOU-YU</td>\n",
              "      <td>TCM BIOTECH INT CORP</td>\n",
              "      <td>TCM BIOTECH INT CORP</td>\n",
              "    </tr>\n",
              "    <tr>\n",
              "      <th>2363</th>\n",
              "      <td>2364</td>\n",
              "      <td>SG</td>\n",
              "      <td>A</td>\n",
              "      <td>SG 11201905788V A</td>\n",
              "      <td>147-487-067-847-82X</td>\n",
              "      <td>2019-08-27</td>\n",
              "      <td>2019</td>\n",
              "      <td>SG 11201905788V A</td>\n",
              "      <td>2018-01-24</td>\n",
              "      <td>US 201762450038 P;;US 201762584011 P;;US 2018/...</td>\n",
              "      <td>2017-01-24</td>\n",
              "      <td>METHODS AND RELATED COMPOSITIONS FOR MANUFACTU...</td>\n",
              "      <td>INTERNATIONAL APPLICATION PUBLISHED UNDER THE ...</td>\n",
              "      <td>FLAGSHIP PIONEERING INNOVATIONS V INC</td>\n",
              "      <td>MARTINEZ IGNACIO;;ARMEN ZACHARY;;CEZAR CHRISTI...</td>\n",
              "      <td>NaN</td>\n",
              "      <td>https://lens.org/147-487-067-847-82X</td>\n",
              "      <td>Unknown</td>\n",
              "      <td>no</td>\n",
              "      <td>0</td>\n",
              "      <td>0</td>\n",
              "      <td>18</td>\n",
              "      <td>19</td>\n",
              "      <td>0</td>\n",
              "      <td>C12N1/20;;A23K50/90;;A23K10/18;;A23K20/142;;A2...</td>\n",
              "      <td>A21D2/00;;A23C9/12;;C12N1/00;;C12N1/12;;C12P1/00</td>\n",
              "      <td>NaN</td>\n",
              "      <td>0</td>\n",
              "      <td>0</td>\n",
              "      <td>NaN</td>\n",
              "      <td>NaN</td>\n",
              "      <td>NaN</td>\n",
              "      <td>PENDING</td>\n",
              "      <td>Topic 6</td>\n",
              "      <td>2018</td>\n",
              "      <td>2017</td>\n",
              "      <td>2015-2019</td>\n",
              "      <td>A;;C</td>\n",
              "      <td>A21;;A23;;C12</td>\n",
              "      <td>A21D;;A23C;;C12N;;C12P</td>\n",
              "      <td>Singapore</td>\n",
              "      <td>Asia</td>\n",
              "      <td>AVENDANO AMADO MAIER;;CEZAR CHRISTINE;;ARMEN Z...</td>\n",
              "      <td>FLAGSHIP PIONEERING INNOVATIONS V INC</td>\n",
              "      <td>FLAGSHIP PIONEERING INNOVATIONS V INC</td>\n",
              "    </tr>\n",
              "    <tr>\n",
              "      <th>2364</th>\n",
              "      <td>2365</td>\n",
              "      <td>EA</td>\n",
              "      <td>B1</td>\n",
              "      <td>EA 004497 B1</td>\n",
              "      <td>121-474-665-038-612</td>\n",
              "      <td>2004-04-29</td>\n",
              "      <td>2004</td>\n",
              "      <td>EA 200100619 A</td>\n",
              "      <td>1999-12-03</td>\n",
              "      <td>US 11091198 P;;US 9928755 W</td>\n",
              "      <td>1998-12-04</td>\n",
              "      <td>HBV CORE ANTIGEN PARTICLES WITH MULTIPLE IMMUN...</td>\n",
              "      <td>1. An HBV core antigen particle comprising at ...</td>\n",
              "      <td>BIOGEN INC</td>\n",
              "      <td>MURRAY KENNETH</td>\n",
              "      <td>NaN</td>\n",
              "      <td>https://lens.org/121-474-665-038-612</td>\n",
              "      <td>Granted Patent</td>\n",
              "      <td>no</td>\n",
              "      <td>0</td>\n",
              "      <td>0</td>\n",
              "      <td>47</td>\n",
              "      <td>47</td>\n",
              "      <td>0</td>\n",
              "      <td>A61K39/00;;A61K39/29;;A61K39/292;;A61K39/385;;...</td>\n",
              "      <td>A61K39/00;;A61K39/29;;A61K39/295;;A61K39/385;;...</td>\n",
              "      <td>NaN</td>\n",
              "      <td>0</td>\n",
              "      <td>0</td>\n",
              "      <td>NaN</td>\n",
              "      <td>NaN</td>\n",
              "      <td>NaN</td>\n",
              "      <td>EXPIRED</td>\n",
              "      <td>Topic 9</td>\n",
              "      <td>1999</td>\n",
              "      <td>1998</td>\n",
              "      <td>1995-1999</td>\n",
              "      <td>A;;C;;G</td>\n",
              "      <td>A61;;C07;;C12;;G01</td>\n",
              "      <td>A61K;;C07K;;C12N;;G01N</td>\n",
              "      <td>Eurasian Patent Org.</td>\n",
              "      <td>Eurasia</td>\n",
              "      <td>MURRAY KENNETH</td>\n",
              "      <td>BIOGEN INC</td>\n",
              "      <td>BIOGEN INC</td>\n",
              "    </tr>\n",
              "  </tbody>\n",
              "</table>\n",
              "<p>2365 rows × 45 columns</p>\n",
              "</div>\n",
              "    <div class=\"colab-df-buttons\">\n",
              "\n",
              "  <div class=\"colab-df-container\">\n",
              "    <button class=\"colab-df-convert\" onclick=\"convertToInteractive('df-6b4b524c-a946-4732-ad66-359a8ba380e1')\"\n",
              "            title=\"Convert this dataframe to an interactive table.\"\n",
              "            style=\"display:none;\">\n",
              "\n",
              "  <svg xmlns=\"http://www.w3.org/2000/svg\" height=\"24px\" viewBox=\"0 -960 960 960\">\n",
              "    <path d=\"M120-120v-720h720v720H120Zm60-500h600v-160H180v160Zm220 220h160v-160H400v160Zm0 220h160v-160H400v160ZM180-400h160v-160H180v160Zm440 0h160v-160H620v160ZM180-180h160v-160H180v160Zm440 0h160v-160H620v160Z\"/>\n",
              "  </svg>\n",
              "    </button>\n",
              "\n",
              "  <style>\n",
              "    .colab-df-container {\n",
              "      display:flex;\n",
              "      gap: 12px;\n",
              "    }\n",
              "\n",
              "    .colab-df-convert {\n",
              "      background-color: #E8F0FE;\n",
              "      border: none;\n",
              "      border-radius: 50%;\n",
              "      cursor: pointer;\n",
              "      display: none;\n",
              "      fill: #1967D2;\n",
              "      height: 32px;\n",
              "      padding: 0 0 0 0;\n",
              "      width: 32px;\n",
              "    }\n",
              "\n",
              "    .colab-df-convert:hover {\n",
              "      background-color: #E2EBFA;\n",
              "      box-shadow: 0px 1px 2px rgba(60, 64, 67, 0.3), 0px 1px 3px 1px rgba(60, 64, 67, 0.15);\n",
              "      fill: #174EA6;\n",
              "    }\n",
              "\n",
              "    .colab-df-buttons div {\n",
              "      margin-bottom: 4px;\n",
              "    }\n",
              "\n",
              "    [theme=dark] .colab-df-convert {\n",
              "      background-color: #3B4455;\n",
              "      fill: #D2E3FC;\n",
              "    }\n",
              "\n",
              "    [theme=dark] .colab-df-convert:hover {\n",
              "      background-color: #434B5C;\n",
              "      box-shadow: 0px 1px 3px 1px rgba(0, 0, 0, 0.15);\n",
              "      filter: drop-shadow(0px 1px 2px rgba(0, 0, 0, 0.3));\n",
              "      fill: #FFFFFF;\n",
              "    }\n",
              "  </style>\n",
              "\n",
              "    <script>\n",
              "      const buttonEl =\n",
              "        document.querySelector('#df-6b4b524c-a946-4732-ad66-359a8ba380e1 button.colab-df-convert');\n",
              "      buttonEl.style.display =\n",
              "        google.colab.kernel.accessAllowed ? 'block' : 'none';\n",
              "\n",
              "      async function convertToInteractive(key) {\n",
              "        const element = document.querySelector('#df-6b4b524c-a946-4732-ad66-359a8ba380e1');\n",
              "        const dataTable =\n",
              "          await google.colab.kernel.invokeFunction('convertToInteractive',\n",
              "                                                    [key], {});\n",
              "        if (!dataTable) return;\n",
              "\n",
              "        const docLinkHtml = 'Like what you see? Visit the ' +\n",
              "          '<a target=\"_blank\" href=https://colab.research.google.com/notebooks/data_table.ipynb>data table notebook</a>'\n",
              "          + ' to learn more about interactive tables.';\n",
              "        element.innerHTML = '';\n",
              "        dataTable['output_type'] = 'display_data';\n",
              "        await google.colab.output.renderOutput(dataTable, element);\n",
              "        const docLink = document.createElement('div');\n",
              "        docLink.innerHTML = docLinkHtml;\n",
              "        element.appendChild(docLink);\n",
              "      }\n",
              "    </script>\n",
              "  </div>\n",
              "\n",
              "\n",
              "<div id=\"df-1373f42b-75fe-4dec-b876-7d2b958d8fa4\">\n",
              "  <button class=\"colab-df-quickchart\" onclick=\"quickchart('df-1373f42b-75fe-4dec-b876-7d2b958d8fa4')\"\n",
              "            title=\"Suggest charts\"\n",
              "            style=\"display:none;\">\n",
              "\n",
              "<svg xmlns=\"http://www.w3.org/2000/svg\" height=\"24px\"viewBox=\"0 0 24 24\"\n",
              "     width=\"24px\">\n",
              "    <g>\n",
              "        <path d=\"M19 3H5c-1.1 0-2 .9-2 2v14c0 1.1.9 2 2 2h14c1.1 0 2-.9 2-2V5c0-1.1-.9-2-2-2zM9 17H7v-7h2v7zm4 0h-2V7h2v10zm4 0h-2v-4h2v4z\"/>\n",
              "    </g>\n",
              "</svg>\n",
              "  </button>\n",
              "\n",
              "<style>\n",
              "  .colab-df-quickchart {\n",
              "      --bg-color: #E8F0FE;\n",
              "      --fill-color: #1967D2;\n",
              "      --hover-bg-color: #E2EBFA;\n",
              "      --hover-fill-color: #174EA6;\n",
              "      --disabled-fill-color: #AAA;\n",
              "      --disabled-bg-color: #DDD;\n",
              "  }\n",
              "\n",
              "  [theme=dark] .colab-df-quickchart {\n",
              "      --bg-color: #3B4455;\n",
              "      --fill-color: #D2E3FC;\n",
              "      --hover-bg-color: #434B5C;\n",
              "      --hover-fill-color: #FFFFFF;\n",
              "      --disabled-bg-color: #3B4455;\n",
              "      --disabled-fill-color: #666;\n",
              "  }\n",
              "\n",
              "  .colab-df-quickchart {\n",
              "    background-color: var(--bg-color);\n",
              "    border: none;\n",
              "    border-radius: 50%;\n",
              "    cursor: pointer;\n",
              "    display: none;\n",
              "    fill: var(--fill-color);\n",
              "    height: 32px;\n",
              "    padding: 0;\n",
              "    width: 32px;\n",
              "  }\n",
              "\n",
              "  .colab-df-quickchart:hover {\n",
              "    background-color: var(--hover-bg-color);\n",
              "    box-shadow: 0 1px 2px rgba(60, 64, 67, 0.3), 0 1px 3px 1px rgba(60, 64, 67, 0.15);\n",
              "    fill: var(--button-hover-fill-color);\n",
              "  }\n",
              "\n",
              "  .colab-df-quickchart-complete:disabled,\n",
              "  .colab-df-quickchart-complete:disabled:hover {\n",
              "    background-color: var(--disabled-bg-color);\n",
              "    fill: var(--disabled-fill-color);\n",
              "    box-shadow: none;\n",
              "  }\n",
              "\n",
              "  .colab-df-spinner {\n",
              "    border: 2px solid var(--fill-color);\n",
              "    border-color: transparent;\n",
              "    border-bottom-color: var(--fill-color);\n",
              "    animation:\n",
              "      spin 1s steps(1) infinite;\n",
              "  }\n",
              "\n",
              "  @keyframes spin {\n",
              "    0% {\n",
              "      border-color: transparent;\n",
              "      border-bottom-color: var(--fill-color);\n",
              "      border-left-color: var(--fill-color);\n",
              "    }\n",
              "    20% {\n",
              "      border-color: transparent;\n",
              "      border-left-color: var(--fill-color);\n",
              "      border-top-color: var(--fill-color);\n",
              "    }\n",
              "    30% {\n",
              "      border-color: transparent;\n",
              "      border-left-color: var(--fill-color);\n",
              "      border-top-color: var(--fill-color);\n",
              "      border-right-color: var(--fill-color);\n",
              "    }\n",
              "    40% {\n",
              "      border-color: transparent;\n",
              "      border-right-color: var(--fill-color);\n",
              "      border-top-color: var(--fill-color);\n",
              "    }\n",
              "    60% {\n",
              "      border-color: transparent;\n",
              "      border-right-color: var(--fill-color);\n",
              "    }\n",
              "    80% {\n",
              "      border-color: transparent;\n",
              "      border-right-color: var(--fill-color);\n",
              "      border-bottom-color: var(--fill-color);\n",
              "    }\n",
              "    90% {\n",
              "      border-color: transparent;\n",
              "      border-bottom-color: var(--fill-color);\n",
              "    }\n",
              "  }\n",
              "</style>\n",
              "\n",
              "  <script>\n",
              "    async function quickchart(key) {\n",
              "      const quickchartButtonEl =\n",
              "        document.querySelector('#' + key + ' button');\n",
              "      quickchartButtonEl.disabled = true;  // To prevent multiple clicks.\n",
              "      quickchartButtonEl.classList.add('colab-df-spinner');\n",
              "      try {\n",
              "        const charts = await google.colab.kernel.invokeFunction(\n",
              "            'suggestCharts', [key], {});\n",
              "      } catch (error) {\n",
              "        console.error('Error during call to suggestCharts:', error);\n",
              "      }\n",
              "      quickchartButtonEl.classList.remove('colab-df-spinner');\n",
              "      quickchartButtonEl.classList.add('colab-df-quickchart-complete');\n",
              "    }\n",
              "    (() => {\n",
              "      let quickchartButtonEl =\n",
              "        document.querySelector('#df-1373f42b-75fe-4dec-b876-7d2b958d8fa4 button');\n",
              "      quickchartButtonEl.style.display =\n",
              "        google.colab.kernel.accessAllowed ? 'block' : 'none';\n",
              "    })();\n",
              "  </script>\n",
              "</div>\n",
              "\n",
              "  <div id=\"id_4a98be04-636d-4983-8a8b-7aac454ebfc7\">\n",
              "    <style>\n",
              "      .colab-df-generate {\n",
              "        background-color: #E8F0FE;\n",
              "        border: none;\n",
              "        border-radius: 50%;\n",
              "        cursor: pointer;\n",
              "        display: none;\n",
              "        fill: #1967D2;\n",
              "        height: 32px;\n",
              "        padding: 0 0 0 0;\n",
              "        width: 32px;\n",
              "      }\n",
              "\n",
              "      .colab-df-generate:hover {\n",
              "        background-color: #E2EBFA;\n",
              "        box-shadow: 0px 1px 2px rgba(60, 64, 67, 0.3), 0px 1px 3px 1px rgba(60, 64, 67, 0.15);\n",
              "        fill: #174EA6;\n",
              "      }\n",
              "\n",
              "      [theme=dark] .colab-df-generate {\n",
              "        background-color: #3B4455;\n",
              "        fill: #D2E3FC;\n",
              "      }\n",
              "\n",
              "      [theme=dark] .colab-df-generate:hover {\n",
              "        background-color: #434B5C;\n",
              "        box-shadow: 0px 1px 3px 1px rgba(0, 0, 0, 0.15);\n",
              "        filter: drop-shadow(0px 1px 2px rgba(0, 0, 0, 0.3));\n",
              "        fill: #FFFFFF;\n",
              "      }\n",
              "    </style>\n",
              "    <button class=\"colab-df-generate\" onclick=\"generateWithVariable('data')\"\n",
              "            title=\"Generate code using this dataframe.\"\n",
              "            style=\"display:none;\">\n",
              "\n",
              "  <svg xmlns=\"http://www.w3.org/2000/svg\" height=\"24px\"viewBox=\"0 0 24 24\"\n",
              "       width=\"24px\">\n",
              "    <path d=\"M7,19H8.4L18.45,9,17,7.55,7,17.6ZM5,21V16.75L18.45,3.32a2,2,0,0,1,2.83,0l1.4,1.43a1.91,1.91,0,0,1,.58,1.4,1.91,1.91,0,0,1-.58,1.4L9.25,21ZM18.45,9,17,7.55Zm-12,3A5.31,5.31,0,0,0,4.9,8.1,5.31,5.31,0,0,0,1,6.5,5.31,5.31,0,0,0,4.9,4.9,5.31,5.31,0,0,0,6.5,1,5.31,5.31,0,0,0,8.1,4.9,5.31,5.31,0,0,0,12,6.5,5.46,5.46,0,0,0,6.5,12Z\"/>\n",
              "  </svg>\n",
              "    </button>\n",
              "    <script>\n",
              "      (() => {\n",
              "      const buttonEl =\n",
              "        document.querySelector('#id_4a98be04-636d-4983-8a8b-7aac454ebfc7 button.colab-df-generate');\n",
              "      buttonEl.style.display =\n",
              "        google.colab.kernel.accessAllowed ? 'block' : 'none';\n",
              "\n",
              "      buttonEl.onclick = () => {\n",
              "        google.colab.notebook.generateWithVariable('data');\n",
              "      }\n",
              "      })();\n",
              "    </script>\n",
              "  </div>\n",
              "\n",
              "    </div>\n",
              "  </div>\n"
            ]
          },
          "metadata": {},
          "execution_count": 32
        }
      ]
    },
    {
      "cell_type": "markdown",
      "source": [
        "#### add applicants region"
      ],
      "metadata": {
        "id": "_ldv_N7YtKZd"
      }
    },
    {
      "cell_type": "code",
      "source": [
        "df1 = data\n",
        "df2 =  applicant_clean\n",
        "col_old =  'Applicants'\n",
        "col_clean =  'region_clean'\n",
        "col_name = 'Applicants_regions'\n",
        "\n",
        "data = clean_entities(df1, df2, col_old, col_clean, col_name)#.reset_index()\n",
        "data"
      ],
      "metadata": {
        "id": "bwQXSNPntKZh"
      },
      "execution_count": null,
      "outputs": []
    },
    {
      "cell_type": "code",
      "source": [],
      "metadata": {
        "id": "yToxdDH2tafr"
      },
      "execution_count": null,
      "outputs": []
    },
    {
      "cell_type": "markdown",
      "source": [
        "#### add applicants categories"
      ],
      "metadata": {
        "id": "rzG3htjif98h"
      }
    },
    {
      "cell_type": "code",
      "source": [
        "df1 = data\n",
        "df2 =  applicant_clean\n",
        "col_old =  'Applicants'\n",
        "col_clean =  'applicant_category'\n",
        "col_name = 'Applicants_categories'\n",
        "\n",
        "data = clean_entities(df1, df2, col_old, col_clean, col_name)#.reset_index()\n",
        "data"
      ],
      "metadata": {
        "id": "ib5a_mcUbnoj"
      },
      "execution_count": null,
      "outputs": []
    },
    {
      "cell_type": "code",
      "source": [],
      "metadata": {
        "id": "xxg24VOUbnvI"
      },
      "execution_count": null,
      "outputs": []
    },
    {
      "cell_type": "code",
      "execution_count": null,
      "metadata": {
        "id": "xLzZ6ywcPb2Q"
      },
      "outputs": [],
      "source": [
        "data = data.drop(['Applicants','Inventors'], axis=1).rename(columns={'Applicants_clean': 'Applicants', 'Inventors_clean': 'Inventors'})"
      ]
    },
    {
      "cell_type": "code",
      "execution_count": null,
      "metadata": {
        "id": "HlNGVQC1Pb5u"
      },
      "outputs": [],
      "source": [
        "data"
      ]
    },
    {
      "cell_type": "code",
      "source": [],
      "metadata": {
        "id": "ADqli5TVgxIR"
      },
      "execution_count": null,
      "outputs": []
    },
    {
      "cell_type": "code",
      "source": [],
      "metadata": {
        "id": "NECP-GnggxRL"
      },
      "execution_count": null,
      "outputs": []
    },
    {
      "cell_type": "code",
      "source": [],
      "metadata": {
        "id": "zptuA94Q6jyV"
      },
      "execution_count": null,
      "outputs": []
    },
    {
      "cell_type": "markdown",
      "metadata": {
        "id": "6v_iI21CFsbc"
      },
      "source": [
        "# Innovation Hotspots:\n",
        "•\tObjective: Identify regions or countries leading in phage therapy innovations.\n",
        "\n",
        "    o\tResearch Question: Which countries or regions have the highest number of patents related to phage therapy, and what might be driving this innovation?\n"
      ]
    },
    {
      "cell_type": "code",
      "source": [
        "df= data['Jurisdiction_Region'].value_counts().to_frame()\n",
        "df['Jurisdiction_Region_prop'] = df['Jurisdiction_Region'] / df['Jurisdiction_Region'].sum()\n",
        "df\n"
      ],
      "metadata": {
        "id": "4rRL8Su5wDhp"
      },
      "execution_count": null,
      "outputs": []
    },
    {
      "cell_type": "code",
      "source": [],
      "metadata": {
        "id": "cAVjdNKLyJT9"
      },
      "execution_count": null,
      "outputs": []
    },
    {
      "cell_type": "code",
      "source": [],
      "metadata": {
        "id": "I5e5cCR_yJlz"
      },
      "execution_count": null,
      "outputs": []
    },
    {
      "cell_type": "markdown",
      "source": [
        "## Nested Pie Chart: Jurisdiction Counts by Region"
      ],
      "metadata": {
        "id": "ylMaPdK3rK4c"
      }
    },
    {
      "cell_type": "code",
      "source": [
        "data.groupby(['Jurisdiction_Region', 'Jurisdiction_name']).size().reset_index(name='counts').sort_values(by=['Jurisdiction_Region', 'counts'], ascending=[True, False])\n"
      ],
      "metadata": {
        "id": "YYpQ9mYYiL2n"
      },
      "execution_count": null,
      "outputs": []
    },
    {
      "cell_type": "code",
      "source": [
        "import matplotlib.pyplot as plt\n",
        "import pandas as pd\n",
        "\n",
        "\n",
        "# Let's create the DataFrame from the provided data\n",
        "#df = data.groupby(['Jurisdiction_Region', 'Jurisdiction_name']).size().reset_index(name='counts')\n",
        "df = data.groupby(['Jurisdiction_Region', 'Jurisdiction_name']).size().reset_index(name='counts').sort_values(by=['Jurisdiction_Region', 'counts'], ascending=[True, False])\n",
        "\n",
        "# Get a list of unique regions\n",
        "regions = df['Jurisdiction_Region'].unique()\n",
        "\n",
        "# Create a color map with a distinct color for each region\n",
        "color_map = plt.get_cmap('tab20')(range(len(regions)))\n",
        "region_colors = {region: color for region, color in zip(regions, color_map)}\n",
        "\n",
        "# Map the color to each jurisdiction based on its region\n",
        "df['color'] = df['Jurisdiction_Region'].map(region_colors)\n",
        "\n",
        "# Group by region to get total counts per region\n",
        "region_counts = df.groupby('Jurisdiction_Region')['counts'].sum().reset_index(name='region_counts').sort_values(by=['Jurisdiction_Region', 'region_counts'], ascending=[True, True])\n",
        "\n",
        "\n",
        "# Group by region and jurisdiction to get counts for each jurisdiction\n",
        "jurisdiction_counts = df.groupby(['Jurisdiction_Region', 'Jurisdiction_name']).sum().reset_index().sort_values(by=['Jurisdiction_Region', 'counts'], ascending=[True, False])\n",
        "\n",
        "\n",
        "# Sort the jurisdiction_counts to ensure matching colors in the plot\n",
        "jurisdiction_counts = jurisdiction_counts.sort_values(by='Jurisdiction_Region')\n",
        "\n",
        "\n",
        "# Set the threshold for displaying labels on the outer pie chart\n",
        "threshold = 4  # You can adjust this number as needed for your dataset\n",
        "\n",
        "# Start plotting\n",
        "fig, ax = plt.subplots(figsize=(18, 20), subplot_kw=dict(aspect=\"equal\"))\n",
        "\n",
        "# Inner Pie Chart: Regions\n",
        "inner_pie_wedges, _ = ax.pie(\n",
        "    region_counts['region_counts'],\n",
        "    radius=.8,\n",
        "    labeldistance=0.5,\n",
        "    colors=[region_colors[region] for region in region_counts['Jurisdiction_Region']],\n",
        "    wedgeprops=dict(width=0.7, edgecolor='w')\n",
        ")\n",
        "\n",
        "# Apply labels to the inner pie chart for regions\n",
        "for wedge, label in zip(inner_pie_wedges, region_counts['Jurisdiction_Region']):\n",
        "    angle = (wedge.theta2 - wedge.theta1) / 2 + wedge.theta1\n",
        "    x = 0.5 * np.cos(np.deg2rad(angle))\n",
        "    y = 0.5 * np.sin(np.deg2rad(angle))\n",
        "    ax.text(x, y, label, horizontalalignment='center', verticalalignment='center', size=12, weight=\"bold\")\n",
        "\n",
        "# Outer Pie Chart: Jurisdiction names\n",
        "outer_pie_wedges, _ = ax.pie(\n",
        "    jurisdiction_counts['counts'],\n",
        "    radius=1.2,\n",
        "    colors=[region_colors[region] for region in jurisdiction_counts['Jurisdiction_Region']],\n",
        "    wedgeprops=dict(width=0.6, edgecolor='w')\n",
        ")\n",
        "\n",
        "# Annotate outer pie chart slices\n",
        "for i, (wedge, label) in enumerate(zip(outer_pie_wedges, jurisdiction_counts['Jurisdiction_name'])):\n",
        "    ang = (wedge.theta2 - wedge.theta1) / 2. + wedge.theta1\n",
        "    x = 1. * np.cos(np.deg2rad(ang))\n",
        "    y = 1. * np.sin(np.deg2rad(ang))\n",
        "\n",
        "    if jurisdiction_counts['counts'].iloc[i] > threshold:\n",
        "        horizontalalignment = {-1: \"right\", 1: \"left\"}[int(np.sign(x))]\n",
        "        connectionstyle = f\"angle,angleA=0,angleB={ang}\"\n",
        "        ax.annotate(label, xy=(x, y), xytext=(1.4 * np.sign(x), 1.21 * y),\n",
        "                    arrowprops=dict(arrowstyle=\"->\", connectionstyle=connectionstyle),\n",
        "                    horizontalalignment=horizontalalignment, size=20)\n",
        "\n",
        "ax.set_title('Nested Pie Chart: Jurisdiction Counts by Region', fontsize=25, pad=20)\n",
        "\n",
        "plt.show()"
      ],
      "metadata": {
        "id": "LVGQeoO1W2oD"
      },
      "execution_count": null,
      "outputs": []
    },
    {
      "cell_type": "code",
      "source": [],
      "metadata": {
        "id": "pnfVoA-1FzAJ"
      },
      "execution_count": null,
      "outputs": []
    },
    {
      "cell_type": "markdown",
      "source": [
        "## Stacked Trend of Jurisdiction Contributions by Region"
      ],
      "metadata": {
        "id": "_6FijHYzrmHZ"
      }
    },
    {
      "cell_type": "code",
      "source": [
        "import matplotlib.pyplot as plt\n",
        "import matplotlib.colors as mcolors\n",
        "import itertools\n",
        "\n",
        "# Your DataFrame is assumed to be named 'df'.\n",
        "# Number of jurisdictions\n",
        "num_colors = len(data['Jurisdiction_Region'].unique())\n",
        "\n",
        "# Combine multiple color maps\n",
        "cmaps = [plt.cm.tab20, plt.cm.Set3, plt.cm.Paired]  # Add more if needed\n",
        "colors = list(itertools.chain.from_iterable([cmap(np.linspace(0, 1, cmap.N)) for cmap in cmaps]))\n",
        "\n",
        "# If more colors are needed, generate custom colors\n",
        "while len(colors) < num_colors:\n",
        "    # Generate a random color\n",
        "    random_color = mcolors.to_rgba(np.random.rand(4,))\n",
        "    # Check for distinctiveness and add to the list\n",
        "    if all(mcolors.colorConverter.to_rgb(random_color) != mcolors.colorConverter.to_rgb(existing_color) for existing_color in colors):\n",
        "        colors.append(random_color)\n",
        "\n",
        "# Ensure all data is numeric, converting 'Application Year' to a numeric type if necessary\n",
        "data['Application Year'] = pd.to_numeric(data['Application Year'], errors='coerce')\n",
        "\n",
        "# Drop rows with NaN in 'Application Year' after conversion\n",
        "data.dropna(subset=['Application Year'], inplace=True)\n",
        "\n",
        "# Group by 'Application Year' and 'Jurisdiction_Region', count the occurrences, and reset index\n",
        "trend_data = data.groupby(['Application Year', 'Jurisdiction_Region']).size().reset_index(name='Counts')\n",
        "\n",
        "# Pivot the data to have 'Application Year' as the index and 'Jurisdiction_Region' as the columns with their respective counts\n",
        "trend_pivot = trend_data.pivot(index='Application Year', columns='Jurisdiction_Region', values='Counts').fillna(0)\n",
        "\n",
        "# Convert the 'Application Year' index back to integer if it was changed to float during the process\n",
        "trend_pivot.index = trend_pivot.index.astype(int)\n",
        "\n",
        "# Sort the columns by their overall sum so that the largest area is at the bottom\n",
        "sorted_regions = trend_pivot.sum().sort_values(ascending=False).index\n",
        "trend_pivot = trend_pivot[sorted_regions]\n",
        "\n",
        "# Plotting\n",
        "plt.figure(figsize=(12, 6))\n",
        "\n",
        "# Stackplot does the cumulative plot in one go, no need to cumsum manually\n",
        "plt.stackplot(trend_pivot.index, trend_pivot.T, labels=trend_pivot.columns, colors = colors[:num_colors], alpha=0.8)\n",
        "\n",
        "# Add title and labels\n",
        "plt.title('Stacked Trend of Jurisdiction Contributions by Region', fontsize=16)\n",
        "plt.xlabel('Application Year', fontsize=14)\n",
        "plt.ylabel('Number of Patent Families', fontsize=14)\n",
        "\n",
        "# Add legend\n",
        "plt.legend(title='Region', loc='upper left') #, bbox_to_anchor=(1.05, 1))\n",
        "\n",
        "# Show grid\n",
        "plt.grid(True)\n",
        "\n",
        "# Display the plot\n",
        "plt.tight_layout()  # Adjust the layout to prevent clipping\n",
        "plt.show()\n"
      ],
      "metadata": {
        "id": "6SEebkN1KskM"
      },
      "execution_count": null,
      "outputs": []
    },
    {
      "cell_type": "markdown",
      "source": [
        "## Stacked Trend of Jurisdiction Contributions by Region (Percentage)"
      ],
      "metadata": {
        "id": "fsTdIg1hsU1-"
      }
    },
    {
      "cell_type": "code",
      "source": [
        "import matplotlib.pyplot as plt\n",
        "import matplotlib.colors as mcolors\n",
        "import itertools\n",
        "\n",
        "# Your DataFrame is assumed to be named 'data'.\n",
        "# Calculate total counts for each jurisdiction\n",
        "total_counts = data.groupby('Jurisdiction_Region').size()\n",
        "\n",
        "# Sort jurisdictions by total counts\n",
        "sorted_regions = total_counts.sort_values(ascending=False).index\n",
        "\n",
        "# Number of jurisdictions\n",
        "num_colors = len(data['Jurisdiction_Region'].unique())\n",
        "\n",
        "# Combine multiple color maps\n",
        "cmaps = [plt.cm.tab20, plt.cm.Set3, plt.cm.Paired]  # Add more if needed\n",
        "colors = list(itertools.chain.from_iterable([cmap(np.linspace(0, 1, cmap.N)) for cmap in cmaps]))\n",
        "\n",
        "# If more colors are needed, generate custom colors\n",
        "while len(colors) < num_colors:\n",
        "    # Generate a random color\n",
        "    random_color = mcolors.to_rgba(np.random.rand(4,))\n",
        "    # Check for distinctiveness and add to the list\n",
        "    if all(mcolors.colorConverter.to_rgb(random_color) != mcolors.colorConverter.to_rgb(existing_color) for existing_color in colors):\n",
        "        colors.append(random_color)\n",
        "\n",
        "# Ensure all data is numeric, converting 'Application Year' to a numeric type if necessary\n",
        "data['Application Year'] = pd.to_numeric(data['Application Year'], errors='coerce')\n",
        "\n",
        "# Drop rows with NaN in 'Application Year' after conversion\n",
        "data.dropna(subset=['Application Year'], inplace=True)\n",
        "\n",
        "# Group by 'Application Year' and 'Jurisdiction_Region', count the occurrences, and reset index\n",
        "trend_data = data.groupby(['Application Year', 'Jurisdiction_Region']).size().reset_index(name='Counts')\n",
        "\n",
        "# Pivot the data to have 'Application Year' as the index and 'Jurisdiction_Region' as the columns with their respective counts\n",
        "trend_pivot = trend_data.pivot(index='Application Year', columns='Jurisdiction_Region', values='Counts').fillna(0)\n",
        "\n",
        "# Convert counts to percentages of the row total (i.e., total counts for each year)\n",
        "trend_pivot = trend_pivot.div(trend_pivot.sum(axis=1), axis=0) * 100\n",
        "\n",
        "# Convert the 'Application Year' index back to integer if it was changed to float during the process\n",
        "trend_pivot.index = trend_pivot.index.astype(int)\n",
        "\n",
        "# Sort the columns by their overall sum so that the largest region is at the bottom\n",
        "#sorted_regions = trend_pivot.sum().sort_values(ascending=False).index\n",
        "trend_pivot = trend_pivot[sorted_regions]\n",
        "\n",
        "# Plotting\n",
        "plt.figure(figsize=(12, 6))\n",
        "\n",
        "# Stackplot now plots percentages\n",
        "plt.stackplot(trend_pivot.index, trend_pivot.T, labels=trend_pivot.columns, colors=colors[:num_colors], alpha=0.8)\n",
        "\n",
        "# Add title and labels\n",
        "plt.title('Stacked Trend of Jurisdiction Contributions by Region (Percentage)', fontsize=18, fontweight='bold')\n",
        "plt.xlabel('Application Year', fontsize=16, fontweight='bold')\n",
        "plt.ylabel('Percentage of Patent Families', fontsize=16, fontweight='bold')\n",
        "\n",
        "# Add legend\n",
        "plt.legend(title='Region', loc='upper left') #, bbox_to_anchor=(1.05, 1))\n",
        "\n",
        "# Show grid\n",
        "plt.grid(True)\n",
        "\n",
        "# Display the plot\n",
        "plt.tight_layout()  # Adjust the layout to prevent clipping\n",
        "plt.show()\n"
      ],
      "metadata": {
        "id": "awPnoWrAnjM1"
      },
      "execution_count": null,
      "outputs": []
    },
    {
      "cell_type": "code",
      "source": [
        "trend_pivot.replace(0, '')"
      ],
      "metadata": {
        "id": "veXxv7hvmR24"
      },
      "execution_count": null,
      "outputs": []
    },
    {
      "cell_type": "code",
      "source": [],
      "metadata": {
        "id": "x_jxgZyiHLSo"
      },
      "execution_count": null,
      "outputs": []
    },
    {
      "cell_type": "markdown",
      "source": [
        "## Yearly Trend of Patents Families for Leading Countries ////// 'Yearly Trend of Patents Families for Leading Countries"
      ],
      "metadata": {
        "id": "A2yhcfE3s95m"
      }
    },
    {
      "cell_type": "code",
      "execution_count": null,
      "metadata": {
        "id": "pJl0I07wJitw"
      },
      "outputs": [],
      "source": [
        "import seaborn as sns\n",
        "import pandas as pd\n",
        "import matplotlib.pyplot as plt\n",
        "\n",
        "# Assuming data is already loaded...\n",
        "\n",
        "# Grouping patents by country\n",
        "country_counts = data['Jurisdiction_name'].value_counts()\n",
        "\n",
        "# Plotting the top 10 countries using seaborn\n",
        "plt.figure(figsize=(14, 7))\n",
        "sns.barplot(x=country_counts.head(10).index, y=country_counts.head(10).values, palette='viridis')\n",
        "plt.title('Top 10 Countries Leading in Phage Therapy Innovations', fontsize=18, fontweight='bold')\n",
        "plt.xlabel('Country', fontsize=16, fontweight='bold')\n",
        "plt.ylabel('Number of Patents Families', fontsize=16, fontweight='bold')\n",
        "plt.xticks(rotation=90, fontsize=14, fontweight='bold')\n",
        "plt.yticks(fontsize=12)\n",
        "sns.despine(bottom=True, left=True)\n",
        "plt.tight_layout()\n",
        "plt.show()\n",
        "\n",
        "# Assuming 'Application Date' column exists\n",
        "data['Year'] = pd.to_datetime(data['Application Date']).dt.year\n",
        "yearly_counts = data.groupby(['Year', 'Jurisdiction_name']).size().unstack().fillna(0)\n",
        "\n",
        "# Top 10 countries\n",
        "top_countries = country_counts.head(10)\n",
        "\n",
        "# Plotting temporal trends for top countries using seaborn\n",
        "plt.figure(figsize=(16, 9))\n",
        "for country in top_countries.index:\n",
        "    sns.lineplot(data=yearly_counts, x=yearly_counts.index, y=country, label=country)\n",
        "\n",
        "\n",
        "plt.title('Yearly Trend of Patents Families for Leading Jurisdiction', fontsize=16)\n",
        "plt.xlabel('Application Year', fontsize=16, fontweight='bold')\n",
        "plt.ylabel('Number of Patents Families', fontsize=16, fontweight='bold')\n",
        "plt.legend(title='Jurisdiction', fontsize=12, title_fontsize='14')\n",
        "\n",
        "plt.xticks(fontsize=14, fontweight='bold')\n",
        "plt.yticks(fontsize=14, fontweight='bold')\n",
        "plt.grid(True, which='both', linestyle='--', linewidth=0.5)\n",
        "sns.despine(left=True, bottom=True)\n",
        "plt.tight_layout()\n",
        "plt.show()\n"
      ]
    },
    {
      "cell_type": "code",
      "execution_count": null,
      "metadata": {
        "id": "HpfKfv0AJiyJ"
      },
      "outputs": [],
      "source": [
        "country_counts"
      ]
    },
    {
      "cell_type": "code",
      "source": [],
      "metadata": {
        "id": "ke1QkePD9wJr"
      },
      "execution_count": null,
      "outputs": []
    },
    {
      "cell_type": "markdown",
      "source": [
        "## Yearly Trend of Patent Families for the Top 10 Jurisdictions"
      ],
      "metadata": {
        "id": "_Yh2LrButJma"
      }
    },
    {
      "cell_type": "code",
      "execution_count": null,
      "metadata": {
        "id": "Y769iKrkXWw7"
      },
      "outputs": [],
      "source": [
        "import seaborn as sns\n",
        "import pandas as pd\n",
        "import matplotlib.pyplot as plt\n",
        "\n",
        "# Assuming data is already loaded...\n",
        "\n",
        "# Grouping patents by country\n",
        "country_counts = data['Jurisdiction_name'].value_counts()\n",
        "\n",
        "# Assuming 'Application Date' column exists and is in the correct date format\n",
        "data['Year'] = pd.to_datetime(data['Application Date']).dt.year\n",
        "yearly_counts = data.groupby(['Year', 'Jurisdiction_name']).size().unstack().fillna(0)\n",
        "\n",
        "# Top 10 countries\n",
        "top_countries = country_counts.head(10).index\n",
        "\n",
        "# Plotting temporal trends for top countries using seaborn\n",
        "# Set up the matplotlib figure\n",
        "fig, axes = plt.subplots(nrows=2, ncols=5, figsize=(25, 10))\n",
        "\n",
        "# Enumerate over the top countries and create a lineplot for each\n",
        "for i, country in enumerate(top_countries):\n",
        "    row = i // 5  # Determine the row of the subplot\n",
        "    col = i % 5   # Determine the column of the subplot\n",
        "    ax = axes[row, col]  # Get the subplot axis\n",
        "\n",
        "    # Plot on the appropriate subplot\n",
        "    sns.lineplot(ax=ax, data=yearly_counts, x=yearly_counts.index, y=country)\n",
        "    ax.set_title(country, fontsize=14)\n",
        "    ax.set_xlabel('Year', fontsize=12)\n",
        "    if col == 0:  # Only set y-label for the first column to reduce clutter\n",
        "        ax.set_ylabel('Number of Patent Families', fontsize=12)\n",
        "    ax.tick_params(labelsize=10)\n",
        "\n",
        "# Adjusting the layout to prevent overlapping\n",
        "plt.tight_layout()\n",
        "\n",
        "# Add a general title\n",
        "plt.suptitle('Yearly Trend of Patent Families for the Top 10 Jurisdictions', fontsize=18, y=1.05)\n",
        "\n",
        "# Finally, show the plot\n",
        "plt.show()\n"
      ]
    },
    {
      "cell_type": "code",
      "execution_count": null,
      "metadata": {
        "id": "Jmc36-Z-XWzv"
      },
      "outputs": [],
      "source": [
        "yearly_counts.replace(0, '')"
      ]
    },
    {
      "cell_type": "code",
      "execution_count": null,
      "metadata": {
        "id": "SWW5ZODJXW3L"
      },
      "outputs": [],
      "source": []
    },
    {
      "cell_type": "code",
      "source": [],
      "metadata": {
        "id": "xh8-Nr-Zz6mG"
      },
      "execution_count": null,
      "outputs": []
    },
    {
      "cell_type": "code",
      "source": [],
      "metadata": {
        "id": "Mu_eH89Uz6o9"
      },
      "execution_count": null,
      "outputs": []
    },
    {
      "cell_type": "code",
      "source": [],
      "metadata": {
        "id": "kJ40DGiPz6ry"
      },
      "execution_count": null,
      "outputs": []
    },
    {
      "cell_type": "markdown",
      "source": [
        "## Stacked Trend of Jurisdiction Contributions"
      ],
      "metadata": {
        "id": "6-BMtP3ztayg"
      }
    },
    {
      "cell_type": "code",
      "source": [
        "import matplotlib.pyplot as plt\n",
        "import matplotlib.colors as mcolors\n",
        "import itertools\n",
        "\n",
        "# Your DataFrame is assumed to be named 'df'.\n",
        "# Number of jurisdictions\n",
        "num_colors = len(yearly_counts.columns)\n",
        "\n",
        "# Combine multiple color maps\n",
        "cmaps = [plt.cm.tab20, plt.cm.Set3, plt.cm.Paired]  # Add more if needed\n",
        "colors = list(itertools.chain.from_iterable([cmap(np.linspace(0, 1, cmap.N)) for cmap in cmaps]))\n",
        "\n",
        "# If more colors are needed, generate custom colors\n",
        "while len(colors) < num_colors:\n",
        "    # Generate a random color\n",
        "    random_color = mcolors.to_rgba(np.random.rand(4,))\n",
        "    # Check for distinctiveness and add to the list\n",
        "    if all(mcolors.colorConverter.to_rgb(random_color) != mcolors.colorConverter.to_rgb(existing_color) for existing_color in colors):\n",
        "        colors.append(random_color)\n",
        "\n",
        "# Ensure all data is numeric, converting 'Application Year' to a numeric type if necessary\n",
        "data['Application Year'] = pd.to_numeric(data['Application Year'], errors='coerce')\n",
        "\n",
        "# Drop rows with NaN in 'Application Year' after conversion\n",
        "data.dropna(subset=['Application Year'], inplace=True)\n",
        "\n",
        "# Group by 'Application Year' and 'Jurisdiction_name', count the occurrences, and reset index\n",
        "trend_data = data.groupby(['Application Year', 'Jurisdiction_name']).size().reset_index(name='Counts')\n",
        "\n",
        "# Pivot the data to have 'Application Year' as the index and 'Jurisdiction_name' as the columns with their respective counts\n",
        "trend_pivot = trend_data.pivot(index='Application Year', columns='Jurisdiction_name', values='Counts').fillna(0)\n",
        "\n",
        "# Convert the 'Application Year' index back to integer if it was changed to float during the process\n",
        "trend_pivot.index = trend_pivot.index.astype(int)\n",
        "\n",
        "# Sort the columns by their overall sum so that the largest area is at the bottom\n",
        "sorted_regions = trend_pivot.sum().sort_values(ascending=False).index\n",
        "trend_pivot = trend_pivot[sorted_regions]\n",
        "\n",
        "# Plotting\n",
        "plt.figure(figsize=(20, 8.5))\n",
        "\n",
        "# Stackplot does the cumulative plot in one go, no need to cumsum manually\n",
        "plt.stackplot(trend_pivot.index, trend_pivot.T, labels=trend_pivot.columns, colors=colors[:num_colors], alpha=0.8)\n",
        "\n",
        "# Add title and labels\n",
        "plt.title('Stacked Trend of Jurisdiction Contributions', fontsize=16)\n",
        "plt.xlabel('Application Year', fontsize=14)\n",
        "plt.ylabel('Number of Patent Families', fontsize=14)\n",
        "\n",
        "# Add legend\n",
        "plt.legend(title='Jurisdiction', loc='upper left', bbox_to_anchor=(1.0, 1))\n",
        "\n",
        "# Show grid\n",
        "plt.grid(True)\n",
        "\n",
        "# Display the plot\n",
        "plt.tight_layout()  # Adjust the layout to prevent clipping\n",
        "plt.show()\n"
      ],
      "metadata": {
        "id": "99HffAGlz6vv"
      },
      "execution_count": null,
      "outputs": []
    },
    {
      "cell_type": "code",
      "source": [
        "trend_pivot.replace(0, '')"
      ],
      "metadata": {
        "id": "mggq9G6byJEE"
      },
      "execution_count": null,
      "outputs": []
    },
    {
      "cell_type": "code",
      "source": [],
      "metadata": {
        "id": "VivY0XVml9O-"
      },
      "execution_count": null,
      "outputs": []
    },
    {
      "cell_type": "markdown",
      "source": [
        "## Stacked Trend of Jurisdiction Contributions (Percentage)"
      ],
      "metadata": {
        "id": "I7FYX-LSuge3"
      }
    },
    {
      "cell_type": "code",
      "source": [
        "import matplotlib.pyplot as plt\n",
        "import matplotlib.colors as mcolors\n",
        "import itertools\n",
        "\n",
        "# Calculate total counts for each jurisdiction\n",
        "total_counts = data.groupby('Jurisdiction_name').size()\n",
        "\n",
        "# Sort jurisdictions by total counts\n",
        "sorted_jurisdictions = total_counts.sort_values(ascending=False).index\n",
        "\n",
        "# Rearrange the columns in 'trend_pivot' based on sorted jurisdictions\n",
        "trend_pivot = trend_pivot[sorted_jurisdictions]\n",
        "\n",
        "# Number of jurisdictions\n",
        "num_colors = len(trend_pivot.columns)\n",
        "\n",
        "# Combine multiple color maps\n",
        "cmaps = [plt.cm.tab20, plt.cm.Set3, plt.cm.Paired]  # Add more if needed\n",
        "colors = list(itertools.chain.from_iterable([cmap(np.linspace(0, 1, cmap.N)) for cmap in cmaps]))\n",
        "\n",
        "# If more colors are needed, generate custom colors\n",
        "while len(colors) < num_colors:\n",
        "    # Generate a random color\n",
        "    random_color = mcolors.to_rgba(np.random.rand(4,))\n",
        "    # Check for distinctiveness and add to the list\n",
        "    if all(mcolors.colorConverter.to_rgb(random_color) != mcolors.colorConverter.to_rgb(existing_color) for existing_color in colors):\n",
        "        colors.append(random_color)\n",
        "\n",
        "\n",
        "# Ensure all data is numeric, converting 'Application Year' to a numeric type if necessary\n",
        "data['Application Year'] = pd.to_numeric(data['Application Year'], errors='coerce')\n",
        "\n",
        "# Drop rows with NaN in 'Application Year' after conversion\n",
        "data.dropna(subset=['Application Year'], inplace=True)\n",
        "\n",
        "# Group by 'Application Year' and 'Jurisdiction_name', count the occurrences, and reset index\n",
        "trend_data = data.groupby(['Application Year', 'Jurisdiction_name']).size().reset_index(name='Counts')\n",
        "\n",
        "# Pivot the data to have 'Application Year' as the index and 'Jurisdiction_name' as the columns with their respective counts\n",
        "trend_pivot = trend_data.pivot(index='Application Year', columns='Jurisdiction_name', values='Counts').fillna(0)\n",
        "\n",
        "# Convert counts to percentages of the row total (i.e., total counts for each year)\n",
        "trend_pivot = trend_pivot.div(trend_pivot.sum(axis=1), axis=0) * 100\n",
        "\n",
        "# Convert the 'Application Year' index back to integer if it was changed to float during the process\n",
        "trend_pivot.index = trend_pivot.index.astype(int)\n",
        "\n",
        "# Sort the columns by their overall sum so that the largest region is at the bottom\n",
        "#sorted_regions = trend_pivot.sum().sort_values(ascending=False).index\n",
        "trend_pivot = trend_pivot[sorted_jurisdictions]\n",
        "\n",
        "# Plotting\n",
        "plt.figure(figsize=(20, 8.5))\n",
        "\n",
        "# Stackplot now plots percentages\n",
        "plt.stackplot(trend_pivot.index, trend_pivot.T, labels=trend_pivot.columns, colors=colors[:num_colors], alpha=0.8)\n",
        "\n",
        "# Add title and labels\n",
        "plt.title('Stacked Trend of Jurisdiction Contributions (Percentage)', fontsize=18, fontweight='bold')\n",
        "plt.xlabel('Application Year', fontsize=16, fontweight='bold')\n",
        "plt.ylabel('Percentage of Patent Families', fontsize=16, fontweight='bold')\n",
        "\n",
        "# Add legend\n",
        "plt.legend(title='Jurisdiction', loc='upper left', bbox_to_anchor=(1.0, 1))\n",
        "\n",
        "# Show grid\n",
        "plt.grid(True)\n",
        "\n",
        "# Display the plot\n",
        "plt.tight_layout()  # Adjust the layout to prevent clipping\n",
        "plt.show()\n"
      ],
      "metadata": {
        "id": "2oe_iC3yyJG3"
      },
      "execution_count": null,
      "outputs": []
    },
    {
      "cell_type": "code",
      "source": [
        "sorted_jurisdictions"
      ],
      "metadata": {
        "id": "2TksVKiBxZRs"
      },
      "execution_count": null,
      "outputs": []
    },
    {
      "cell_type": "code",
      "source": [
        "trend_pivot.replace(0, '')"
      ],
      "metadata": {
        "id": "1vc7rXs4yJKQ"
      },
      "execution_count": null,
      "outputs": []
    },
    {
      "cell_type": "code",
      "source": [],
      "metadata": {
        "id": "3dhoz-0Bx9OY"
      },
      "execution_count": null,
      "outputs": []
    },
    {
      "cell_type": "code",
      "source": [
        "data[['Lens ID', 'Applicants_regions','Applicants_countries','Applicants_categories']]"
      ],
      "metadata": {
        "id": "wQPJC2IPe84I"
      },
      "execution_count": null,
      "outputs": []
    },
    {
      "cell_type": "code",
      "source": [],
      "metadata": {
        "id": "dLPXowrse9Bh"
      },
      "execution_count": null,
      "outputs": []
    },
    {
      "cell_type": "markdown",
      "source": [
        "# Heatmap graph applicants countries"
      ],
      "metadata": {
        "id": "Inf1Ruo7_LnG"
      }
    },
    {
      "cell_type": "code",
      "source": [
        "from operator import index\n",
        "def process_data(data, index_cols, split_col, top_n_index, top_n_col):\n",
        "  # Set the index\n",
        "  applicants_data = data.set_index(['Lens ID', index_cols])\n",
        "\n",
        "  # Split and explode the 'Applicants' field\n",
        "  applicants_list = applicants_data[split_col].str.split(';;').explode().str.strip().to_frame()\n",
        "      # Reset the index to re-organize data\n",
        "  applicants_list2 = applicants_list.reset_index()\n",
        "  applicants_list2.dropna(subset=[index_cols], inplace=True)\n",
        "\n",
        "  # Set the index\n",
        "  applicants_list3 = applicants_list2.set_index(['Lens ID', split_col])\n",
        "\n",
        "  # Split and explode the 'Applicants' field\n",
        "  applicants_list4 = applicants_list3[index_cols].str.split(';;').explode().str.strip().to_frame()\n",
        "      # Reset the index to re-organize data\n",
        "  applicants_list4 = applicants_list4.reset_index()\n",
        "  applicants_list4[index_cols] = applicants_list4[index_cols].str.title()\n",
        "\n",
        "  grouped = applicants_list4.groupby([index_cols, split_col]).agg({\n",
        "      'Lens ID': 'count'\n",
        "  }).reset_index()\n",
        "\n",
        "  pivot_df_ipcr_appl = grouped.pivot_table(index=split_col, columns=index_cols, values=['Lens ID'], aggfunc='sum')#['Lens ID']\n",
        "\n",
        "  pivot_df_ipcr_appl = pivot_df_ipcr_appl.head(top_n_index)\n",
        "\n",
        "  pivot_df_ipcr_applT = pivot_df_ipcr_appl.T\n",
        "  # Determine the top 50 companies based on the given metric\n",
        "  top_50_applicants = pivot_df_ipcr_applT.sum(axis=1).nlargest(top_n_col).index\n",
        "\n",
        "  # Filter pivot_df to only include these top 50 companies\n",
        "  pivot_df_ipcr_applT50 = pivot_df_ipcr_applT.loc[top_50_applicants].T\n",
        "\n",
        "  if '' in pivot_df_ipcr_applT50.index :\n",
        "    pivot_df_ipcr_applT50 = pivot_df_ipcr_applT50.drop('', axis=0)\n",
        "\n",
        "  if '' in pivot_df_ipcr_applT50.columns :\n",
        "    pivot_df_ipcr_applT50 = pivot_df_ipcr_applT50.drop(('Lens ID',               ''), axis=1)\n",
        "\n",
        "  return pivot_df_ipcr_applT50\n",
        "\n"
      ],
      "metadata": {
        "id": "3Rfkw9UeHvz5"
      },
      "execution_count": null,
      "outputs": []
    },
    {
      "cell_type": "code",
      "source": [
        "import seaborn as sns\n",
        "import matplotlib.pyplot as plt\n",
        "import numpy as np\n",
        "\n",
        "def plot_top_50_heatmap(pivot_df_ipcr, split_col, top_n_index, metric, figsize, xlabel, ylabel):\n",
        "    \"\"\"\n",
        "    Plot a heatmap for the given metric for top 50 companies based on Publication Count.\n",
        "\n",
        "    Args:\n",
        "    - pivot_df (pd.DataFrame): The pivoted DataFrame with metrics for each applicant over different application years.\n",
        "    - metric (str): The metric based on which the top 50 companies are determined. Default is 'Publication Count'.\n",
        "\n",
        "    Returns:\n",
        "    None\n",
        "    \"\"\"\n",
        "    # Determine the top 50 companies based on the given metric\n",
        "    top_50_applicants = pivot_df_ipcr[metric].sum(axis=1).nlargest(top_n_index).index\n",
        "\n",
        "    # Filter pivot_df to only include these top 50 companies\n",
        "    top_50_data = pivot_df_ipcr.loc[top_50_applicants]\n",
        "\n",
        "    # Ensure the index is properly formatted\n",
        "    top_50_data.index = top_50_data.index.to_series().str.title()\n",
        "\n",
        "    # Round the values and convert to integer\n",
        "    #top_50_data = np.round(top_50_data).astype(int)\n",
        "\n",
        "    def convert_to_int(x):\n",
        "      return int(x) if not pd.isna(x) else np.nan\n",
        "\n",
        "    for col in top_50_data :\n",
        "      top_50_data[col] = top_50_data[col].apply(convert_to_int)\n",
        "\n",
        "    plt.figure(figsize=figsize)\n",
        "\n",
        "    # Extract data for the given metric\n",
        "    data_to_plot = top_50_data[metric].reset_index()\n",
        "\n",
        "    # Wrapping title with year and applicant name\n",
        "    #data_to_plot['Applicants_categories'] = data_to_plot.apply(lambda row: f\"{row['Applicants_categories'].title()}\", axis=1)\n",
        "    data_to_plot[split_col] = data_to_plot.apply(lambda row: f\"{row[split_col].title()}\", axis=1)\n",
        "\n",
        "    # Set the Applicants column as the index\n",
        "    data_to_plot = data_to_plot.set_index(split_col)\n",
        "\n",
        "    # Create the heatmap\n",
        "    sns.heatmap(data_to_plot, annot=True, fmt=\".0f\", cmap='YlGnBu', linewidths=.5, cbar_kws={\"orientation\": \"vertical\"})\n",
        "\n",
        "    plt.xticks(fontsize=14, fontweight='bold')\n",
        "    plt.yticks(fontsize=14, fontweight='bold')\n",
        "    #plt.title(f\"Heatmap of Top 50 Applicants and the Top 25 IPCR Subclass\", fontsize=18, fontweight='bold')\n",
        "    plt.xlabel(xlabel, fontsize=16, fontweight='bold')\n",
        "    plt.ylabel(ylabel, fontsize=16, fontweight='bold')\n",
        "    plt.grid( linestyle='--', alpha=0.7) #axis='x',\n",
        "    plt.show()\n",
        "\n",
        "# Example Usage:\n",
        "# Assuming 'pivot_df' is your DataFrame with the required metrics.\n",
        "#plot_top_50_heatmap(pivot_df_ipcr_applT50, \"Lens ID\")\n",
        "#plot_top_50_heatmap(pivot_df_ipcr_applT50, \"Total Citations\")\n",
        "#plot_top_50_heatmap(pivot_df_ipcr_applT50, \"Average Citation Count\")\n"
      ],
      "metadata": {
        "id": "lnLz2wW3PhvG"
      },
      "execution_count": null,
      "outputs": []
    },
    {
      "cell_type": "markdown",
      "source": [
        "##  Applicants categories"
      ],
      "metadata": {
        "id": "zxXfR7aCTFaH"
      }
    },
    {
      "cell_type": "code",
      "source": [
        "index_cols = 'Applicants_countries'\n",
        "split_col = 'Applicants_categories'\n",
        "top_n_col = 50\n",
        "top_n_index = 4\n",
        "figsize=(25, 2)\n",
        "xlabel = \"Applicant countries\"\n",
        "ylabel = \"Types\"\n",
        "\n",
        "pivot_df = process_data(data, index_cols, split_col, top_n_index, top_n_col)\n",
        "plot_top_50_heatmap(pivot_df, split_col, top_n_index, \"Lens ID\", figsize, xlabel, ylabel)"
      ],
      "metadata": {
        "id": "fOEFhtLXKujJ"
      },
      "execution_count": null,
      "outputs": []
    },
    {
      "cell_type": "markdown",
      "source": [
        "##  Applicants region"
      ],
      "metadata": {
        "id": "s1FS-rgmTQJ5"
      }
    },
    {
      "cell_type": "code",
      "source": [
        "index_cols = 'Applicants_countries'\n",
        "split_col = 'Applicants_regions'\n",
        "top_n_col = 50\n",
        "top_n_index = 10\n",
        "figsize=(25, 3)\n",
        "xlabel = \"Applicant countries\"\n",
        "ylabel = \"Appl. Regions\"\n",
        "\n",
        "df = process_data(data, index_cols, split_col, top_n_index, top_n_col)\n",
        "plot_top_50_heatmap(df, split_col, top_n_index, \"Lens ID\", figsize, xlabel, ylabel)"
      ],
      "metadata": {
        "id": "DwLVST00TQJ9"
      },
      "execution_count": null,
      "outputs": []
    },
    {
      "cell_type": "code",
      "source": [],
      "metadata": {
        "id": "xr5B_VzdQDzG"
      },
      "execution_count": null,
      "outputs": []
    },
    {
      "cell_type": "markdown",
      "source": [
        "##  Applicants region"
      ],
      "metadata": {
        "id": "lxHG28iyVACr"
      }
    },
    {
      "cell_type": "code",
      "source": [
        "index_cols = 'Applicants_countries'\n",
        "split_col = 'Applicants'\n",
        "top_n_col = 50\n",
        "top_n_index = 50\n",
        "figsize=(25, 15)\n",
        "xlabel = \"Applicant countries\"\n",
        "ylabel = \"Applicants\"\n",
        "\n",
        "df = process_data(data, index_cols, split_col, top_n_index, top_n_col)\n",
        "plot_top_50_heatmap(df, split_col, top_n_index, \"Lens ID\", figsize, xlabel, ylabel)"
      ],
      "metadata": {
        "id": "FuQXvj28VACu"
      },
      "execution_count": null,
      "outputs": []
    },
    {
      "cell_type": "code",
      "source": [
        "df.columns"
      ],
      "metadata": {
        "id": "j8G9UW8Z_OAY"
      },
      "execution_count": null,
      "outputs": []
    },
    {
      "cell_type": "code",
      "source": [
        "df.index"
      ],
      "metadata": {
        "id": "xrCRCrb2E3Fz"
      },
      "execution_count": null,
      "outputs": []
    },
    {
      "cell_type": "code",
      "source": [
        "df.drop(('Lens ID',               ''), axis=1)"
      ],
      "metadata": {
        "id": "8DxQA18GXNFV"
      },
      "execution_count": null,
      "outputs": []
    },
    {
      "cell_type": "code",
      "source": [],
      "metadata": {
        "id": "jasVa58vZJat"
      },
      "execution_count": null,
      "outputs": []
    }
  ],
  "metadata": {
    "colab": {
      "provenance": [],
      "toc_visible": true,
      "authorship_tag": "ABX9TyOhVfdY7H41qK76tBPTphv0",
      "include_colab_link": true
    },
    "kernelspec": {
      "display_name": "Python 3",
      "name": "python3"
    },
    "language_info": {
      "name": "python"
    }
  },
  "nbformat": 4,
  "nbformat_minor": 0
}